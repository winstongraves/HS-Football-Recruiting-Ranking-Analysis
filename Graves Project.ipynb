{
 "cells": [
  {
   "cell_type": "markdown",
   "id": "e9ea96ee",
   "metadata": {},
   "source": [
    "# Winston Graves Project"
   ]
  },
  {
   "cell_type": "code",
   "execution_count": 1,
   "id": "6fde963c",
   "metadata": {
    "scrolled": true
   },
   "outputs": [
    {
     "name": "stdout",
     "output_type": "stream",
     "text": [
      "Collecting cfbd\n",
      "  Obtaining dependency information for cfbd from https://files.pythonhosted.org/packages/0d/40/9fc01162f087b374b24a24e48a2a30626c69166e19f0eb69f9fcbbf73860/cfbd-4.5.2-py3-none-any.whl.metadata\n",
      "  Downloading cfbd-4.5.2-py3-none-any.whl.metadata (623 bytes)\n",
      "Requirement already satisfied: certifi>=2017.4.17 in /Users/winstongraves/opt/anaconda3/lib/python3.9/site-packages (from cfbd) (2021.10.8)\n",
      "Requirement already satisfied: python-dateutil>=2.1 in /Users/winstongraves/opt/anaconda3/lib/python3.9/site-packages (from cfbd) (2.8.2)\n",
      "Requirement already satisfied: six>=1.10 in /Users/winstongraves/opt/anaconda3/lib/python3.9/site-packages (from cfbd) (1.16.0)\n",
      "Requirement already satisfied: urllib3>=1.23 in /Users/winstongraves/opt/anaconda3/lib/python3.9/site-packages (from cfbd) (1.26.7)\n",
      "Downloading cfbd-4.5.2-py3-none-any.whl (358 kB)\n",
      "\u001b[2K   \u001b[90m━━━━━━━━━━━━━━━━━━━━━━━━━━━━━━━━━━━━━━━━\u001b[0m \u001b[32m358.8/358.8 kB\u001b[0m \u001b[31m1.1 MB/s\u001b[0m eta \u001b[36m0:00:00\u001b[0ma \u001b[36m0:00:01\u001b[0mm\n",
      "\u001b[?25h\u001b[33mDEPRECATION: pyodbc 4.0.0-unsupported has a non-standard version number. pip 23.3 will enforce this behaviour change. A possible replacement is to upgrade to a newer version of pyodbc or contact the author to suggest that they release a version with a conforming version number. Discussion can be found at https://github.com/pypa/pip/issues/12063\u001b[0m\u001b[33m\n",
      "\u001b[0mInstalling collected packages: cfbd\n",
      "Successfully installed cfbd-4.5.2\n",
      "\n",
      "\u001b[1m[\u001b[0m\u001b[34;49mnotice\u001b[0m\u001b[1;39;49m]\u001b[0m\u001b[39;49m A new release of pip is available: \u001b[0m\u001b[31;49m23.2.1\u001b[0m\u001b[39;49m -> \u001b[0m\u001b[32;49m23.3.2\u001b[0m\n",
      "\u001b[1m[\u001b[0m\u001b[34;49mnotice\u001b[0m\u001b[1;39;49m]\u001b[0m\u001b[39;49m To update, run: \u001b[0m\u001b[32;49mpip install --upgrade pip\u001b[0m\n",
      "Note: you may need to restart the kernel to use updated packages.\n"
     ]
    }
   ],
   "source": [
    "pip install cfbd"
   ]
  },
  {
   "cell_type": "code",
   "execution_count": 2,
   "id": "235cc2d7",
   "metadata": {
    "scrolled": false
   },
   "outputs": [
    {
     "name": "stdout",
     "output_type": "stream",
     "text": [
      "Requirement already satisfied: beautifulsoup4 in /Users/winstongraves/opt/anaconda3/lib/python3.9/site-packages (4.10.0)\n",
      "Requirement already satisfied: soupsieve>1.2 in /Users/winstongraves/opt/anaconda3/lib/python3.9/site-packages (from beautifulsoup4) (2.2.1)\n",
      "\u001b[33mDEPRECATION: pyodbc 4.0.0-unsupported has a non-standard version number. pip 23.3 will enforce this behaviour change. A possible replacement is to upgrade to a newer version of pyodbc or contact the author to suggest that they release a version with a conforming version number. Discussion can be found at https://github.com/pypa/pip/issues/12063\u001b[0m\u001b[33m\n",
      "\u001b[0m\n",
      "\u001b[1m[\u001b[0m\u001b[34;49mnotice\u001b[0m\u001b[1;39;49m]\u001b[0m\u001b[39;49m A new release of pip is available: \u001b[0m\u001b[31;49m23.2.1\u001b[0m\u001b[39;49m -> \u001b[0m\u001b[32;49m23.3.2\u001b[0m\n",
      "\u001b[1m[\u001b[0m\u001b[34;49mnotice\u001b[0m\u001b[1;39;49m]\u001b[0m\u001b[39;49m To update, run: \u001b[0m\u001b[32;49mpip install --upgrade pip\u001b[0m\n",
      "Note: you may need to restart the kernel to use updated packages.\n"
     ]
    }
   ],
   "source": [
    "pip install beautifulsoup4"
   ]
  },
  {
   "cell_type": "markdown",
   "id": "e0a23cb1",
   "metadata": {},
   "source": [
    "# Project:\n",
    "    - Are highschool ratings accurate/helpful predictors of college success / being drafted? (247, espn, or rivals)\n",
    "    - Accuracy will be measured using Highschool player ranks to predict draft status"
   ]
  },
  {
   "cell_type": "code",
   "execution_count": 4,
   "id": "e174fbb7",
   "metadata": {},
   "outputs": [],
   "source": [
    "import requests\n",
    "import pandas as pd\n",
    "import numpy as np\n",
    "import re\n",
    "import math\n",
    "import os\n",
    "import seaborn as sns"
   ]
  },
  {
   "cell_type": "code",
   "execution_count": 4,
   "id": "e73f1129",
   "metadata": {},
   "outputs": [],
   "source": [
    "import cfbd\n",
    "from bs4 import BeautifulSoup"
   ]
  },
  {
   "cell_type": "markdown",
   "id": "330af647",
   "metadata": {},
   "source": [
    "**Define necessary scraping functions**"
   ]
  },
  {
   "cell_type": "code",
   "execution_count": 122,
   "id": "edc165d8",
   "metadata": {},
   "outputs": [],
   "source": [
    "def create_df(start_yr, end_yr, players_per_yr):\n",
    "    year = []\n",
    "    for i in range(start_yr, end_yr+1):\n",
    "        year = np.hstack([year, np.repeat(int(i), players_per_yr)])\n",
    "    nrows = players_per_yr*len(range(start_yr, end_yr))\n",
    "    years = pd.Series(year, name='Year')\n",
    "    name = pd.Series(np.repeat('j', nrows), name='Player')\n",
    "    pos = pd.Series(np.repeat('K', nrows), name='Position')\n",
    "    ht = pd.Series(np.repeat('h', nrows), name='Height')\n",
    "    wt = pd.Series(np.repeat('w', nrows), name='Weight')\n",
    "    on3 = pd.Series(np.repeat('1', nrows), name='on3_Star')\n",
    "    on3R = pd.Series(np.repeat('1', nrows), name='on3_Rating')\n",
    "    two47 = pd.Series(np.repeat('1', nrows), name='247_Star')\n",
    "    two47R = pd.Series(np.repeat('1', nrows), name='247_Rating')\n",
    "    espn = pd.Series(np.repeat('1', nrows), name='ESPN_Star')\n",
    "    espnR = pd.Series(np.repeat('1', nrows), name='ESPN_Rating')\n",
    "    rival = pd.Series(np.repeat('1', nrows), name='Rivals_Star')\n",
    "    rivalR = pd.Series(np.repeat('1', nrows), name='Rivals_Rating')\n",
    "\n",
    "    df = pd.concat([years, name, pos, ht, wt, on3, on3R, two47, two47R, espn, espnR, rival, rivalR], axis=1)\n",
    "    return(df)"
   ]
  },
  {
   "cell_type": "code",
   "execution_count": 169,
   "id": "383305b4",
   "metadata": {},
   "outputs": [],
   "source": [
    "def get_position(string):\n",
    "    try:\n",
    "        return(re.match(pattern='[A-z]+', string=string)[0])\n",
    "    except:\n",
    "        return(np.nan)"
   ]
  },
  {
   "cell_type": "code",
   "execution_count": 11,
   "id": "d1758586",
   "metadata": {},
   "outputs": [],
   "source": [
    "def get_text(html_soup):\n",
    "    out = np.repeat('longtextdescription', len(html_soup))\n",
    "    for i in range(len(html_soup)):\n",
    "        out[i] = html_soup[i].text\n",
    "    return(out)"
   ]
  },
  {
   "cell_type": "code",
   "execution_count": 12,
   "id": "e5b31df3",
   "metadata": {},
   "outputs": [],
   "source": [
    "def get_stars(html_soup):\n",
    "    stars2=np.repeat('f', len(html_soup))\n",
    "    for i in range(len(html_soup)):\n",
    "        stars2[i] = html_soup[i]['aria-label']\n",
    "    return(stars2)"
   ]
  },
  {
   "cell_type": "code",
   "execution_count": 41,
   "id": "a5cdbfda",
   "metadata": {},
   "outputs": [],
   "source": [
    "def check_none(soup, class_type, tag='span'):\n",
    "    return(soup.find(tag, class_=class_type)==None)"
   ]
  },
  {
   "cell_type": "code",
   "execution_count": 99,
   "id": "9d882137",
   "metadata": {},
   "outputs": [],
   "source": [
    "def get_ratings(soup):\n",
    "    # find all divs with player star and rating info\n",
    "    # x is 4 rating tags for each player on this page\n",
    "    x = soup.find_all('div', class_='IndustryComparisonFourServicesItem_serviceItemWrapper__9AHiZ')\n",
    "    subset_rating=np.repeat('fff', len(x))\n",
    "    for i in range(len(x)):\n",
    "        # if rating is none\n",
    "        if check_none(x[i],'StarRating_overallRating__wz9dE StarRating_gray__LXyyB StarRating_small__jYqhq'):\n",
    "            subset_rating[i] = np.nan\n",
    "        else:\n",
    "            subset_rating[i] = x[i].find('span', \n",
    "                                class_='StarRating_overallRating__wz9dE StarRating_gray__LXyyB StarRating_small__jYqhq').text\n",
    "    return(subset_rating)"
   ]
  },
  {
   "cell_type": "code",
   "execution_count": 170,
   "id": "2efff32b",
   "metadata": {
    "scrolled": true
   },
   "outputs": [],
   "source": [
    "def scrape_on3_data(start_yr, end_yr, players_per_yr):\n",
    "    if players_per_yr%50 != 0:\n",
    "        return(\"Players per year must be a multiple of 50\")\n",
    "    # create data frame to store scraped data\n",
    "    df = create_df(start_yr, end_yr, players_per_yr)\n",
    "    # read in html data from on3.com \n",
    "    url_base = 'https://on3.com/db/rankings/industry-comparison/football/'\n",
    "    ratings = []\n",
    "    for yr in range(start_yr, end_yr+1): \n",
    "        html_players = []\n",
    "        html_p_ht_wt = []\n",
    "        html_ht = []\n",
    "        html_wt = []\n",
    "        html_stars = []\n",
    "        html_ratings = []\n",
    "        for pg in range(1, int(players_per_yr/50)+1): # 50 players per page\n",
    "            page = requests.get(url_base+str(yr)+'/?page='+str(pg))\n",
    "            soup = BeautifulSoup(page.content, \"html.parser\")\n",
    "            html_players = html_players + soup.find_all('a', \n",
    "                         class_='MuiTypography-root MuiTypography-h5 MuiLink-root MuiLink-underlineNone css-1awuaxm')\n",
    "            html_p_ht_wt = html_p_ht_wt + soup.find_all('p', \n",
    "                         class_='MuiTypography-root MuiTypography-body1 IndustryComparisonPlayerItem_vitalsContainer__4PF2i css-z52hnt')\n",
    "            html_ht = html_ht + soup.find_all('span', \n",
    "                         class_='IndustryComparisonPlayerItem_height__6MMx_')\n",
    "            html_wt = html_wt + soup.find_all('span', \n",
    "                         class_='IndustryComparisonPlayerItem_weight__L20kP')\n",
    "            html_stars = html_stars + soup.find_all('span', \n",
    "                         class_='MuiRating-root MuiRating-sizeSmall Mui-readOnly StarRating_star__GR_Ff StarRating_small__jYqhq MuiRating-readOnly css-1a2asoj')\n",
    "            ratings = np.append(ratings, get_ratings(soup))\n",
    "\n",
    "\n",
    "        # for all players of a given year below\n",
    "        names = get_text(html_players) \n",
    "        pos = pd.Series(get_text(html_p_ht_wt)).apply(get_position)\n",
    "        ht = get_text(html_ht)\n",
    "        wt = get_text(html_wt)\n",
    "        stars = pd.Series(get_stars(html_stars))\n",
    "\n",
    "        # use np.array() on pandas objects to remove index mismatch conflict\n",
    "        df.loc[(df['Year']==yr), 'Player'] = names\n",
    "        df.loc[(df['Year']==yr), 'Position'] = np.array(pos)\n",
    "        df.loc[(df['Year']==yr), 'Height'] = ht\n",
    "        df.loc[(df['Year']==yr), 'Weight'] = wt\n",
    "        df.loc[(df['Year']==yr), 'on3_Star'] = np.array(stars[stars.index%5==1]) # on3 star rating is pos-1 out of 0:4 for all len 5 chunks\n",
    "        df.loc[(df['Year']==yr), '247_Star'] = np.array(stars[stars.index%5==2]) # 247 star rating is pos-2 out of 0:4 for all len 5 chunks\n",
    "        df.loc[(df['Year']==yr), 'ESPN_Star'] = np.array(stars[stars.index%5==3]) # ESPN star rating is pos-3 out of 0:4 for all len 5 chunks\n",
    "        df.loc[(df['Year']==yr), 'Rivals_Star'] = np.array(stars[stars.index%5==4]) # Rivals star rating is pos-4 out of 0:4 for all len 5 chunks\n",
    "\n",
    "    # rates will not be applied year by year, so they are done down here (outside the loop)\n",
    "    # ratings in html are pulled in len 4 chunks, using remainder to bust up\n",
    "    rates = pd.Series(ratings)\n",
    "    df['on3_Rating'] = np.array(rates[rates.index%4==0]) # on3 ratings = 1st position in chunk of 4\n",
    "    df['247_Rating'] = np.array(rates[rates.index%4==1]) # 247 ratings = 2nd position in chunk of 4\n",
    "    df['ESPN_Rating'] = np.array(rates[rates.index%4==2]) # espn ratings\n",
    "    df['Rivals_Rating']= np.array(rates[rates.index%4==3]) # rivals ratings\n",
    "    return(df)"
   ]
  },
  {
   "cell_type": "markdown",
   "id": "bd326c7d",
   "metadata": {},
   "source": [
    "## RECRUTING DATA\n",
    "Scrape on3.com recruting data"
   ]
  },
  {
   "cell_type": "code",
   "execution_count": 203,
   "id": "f81c2c85",
   "metadata": {
    "scrolled": true
   },
   "outputs": [
    {
     "ename": "KeyboardInterrupt",
     "evalue": "",
     "output_type": "error",
     "traceback": [
      "\u001b[0;31m---------------------------------------------------------------------------\u001b[0m",
      "\u001b[0;31mKeyboardInterrupt\u001b[0m                         Traceback (most recent call last)",
      "\u001b[0;32m/var/folders/hm/c8hhxwgn2vj0h4qsftqkr_8r0000gn/T/ipykernel_684/1477854851.py\u001b[0m in \u001b[0;36m<module>\u001b[0;34m\u001b[0m\n\u001b[1;32m      1\u001b[0m \u001b[0mplayers_per_yr\u001b[0m \u001b[0;34m=\u001b[0m \u001b[0;36m500\u001b[0m \u001b[0;31m# must be a multiple of 50\u001b[0m\u001b[0;34m\u001b[0m\u001b[0;34m\u001b[0m\u001b[0m\n\u001b[0;32m----> 2\u001b[0;31m \u001b[0mdata\u001b[0m \u001b[0;34m=\u001b[0m \u001b[0mscrape_on3_data\u001b[0m\u001b[0;34m(\u001b[0m\u001b[0;36m2010\u001b[0m\u001b[0;34m,\u001b[0m \u001b[0;36m2019\u001b[0m\u001b[0;34m,\u001b[0m \u001b[0mplayers_per_yr\u001b[0m\u001b[0;34m)\u001b[0m\u001b[0;34m\u001b[0m\u001b[0;34m\u001b[0m\u001b[0m\n\u001b[0m\u001b[1;32m      3\u001b[0m \u001b[0mdata\u001b[0m\u001b[0;34m\u001b[0m\u001b[0;34m\u001b[0m\u001b[0m\n",
      "\u001b[0;32m/var/folders/hm/c8hhxwgn2vj0h4qsftqkr_8r0000gn/T/ipykernel_684/2704575670.py\u001b[0m in \u001b[0;36mscrape_on3_data\u001b[0;34m(start_yr, end_yr, players_per_yr)\u001b[0m\n\u001b[1;32m     25\u001b[0m             html_wt = html_wt + soup.find_all('span', \n\u001b[1;32m     26\u001b[0m                          class_='IndustryComparisonPlayerItem_weight__L20kP')\n\u001b[0;32m---> 27\u001b[0;31m             html_stars = html_stars + soup.find_all('span', \n\u001b[0m\u001b[1;32m     28\u001b[0m                          class_='MuiRating-root MuiRating-sizeSmall Mui-readOnly StarRating_star__GR_Ff StarRating_small__jYqhq MuiRating-readOnly css-1a2asoj')\n\u001b[1;32m     29\u001b[0m             \u001b[0mratings\u001b[0m \u001b[0;34m=\u001b[0m \u001b[0mnp\u001b[0m\u001b[0;34m.\u001b[0m\u001b[0mappend\u001b[0m\u001b[0;34m(\u001b[0m\u001b[0mratings\u001b[0m\u001b[0;34m,\u001b[0m \u001b[0mget_ratings\u001b[0m\u001b[0;34m(\u001b[0m\u001b[0msoup\u001b[0m\u001b[0;34m)\u001b[0m\u001b[0;34m)\u001b[0m\u001b[0;34m\u001b[0m\u001b[0;34m\u001b[0m\u001b[0m\n",
      "\u001b[0;32m~/opt/anaconda3/lib/python3.9/site-packages/bs4/element.py\u001b[0m in \u001b[0;36mfind_all\u001b[0;34m(self, name, attrs, recursive, text, limit, **kwargs)\u001b[0m\n\u001b[1;32m   1866\u001b[0m         \u001b[0;32mif\u001b[0m \u001b[0;32mnot\u001b[0m \u001b[0mrecursive\u001b[0m\u001b[0;34m:\u001b[0m\u001b[0;34m\u001b[0m\u001b[0;34m\u001b[0m\u001b[0m\n\u001b[1;32m   1867\u001b[0m             \u001b[0mgenerator\u001b[0m \u001b[0;34m=\u001b[0m \u001b[0mself\u001b[0m\u001b[0;34m.\u001b[0m\u001b[0mchildren\u001b[0m\u001b[0;34m\u001b[0m\u001b[0;34m\u001b[0m\u001b[0m\n\u001b[0;32m-> 1868\u001b[0;31m         \u001b[0;32mreturn\u001b[0m \u001b[0mself\u001b[0m\u001b[0;34m.\u001b[0m\u001b[0m_find_all\u001b[0m\u001b[0;34m(\u001b[0m\u001b[0mname\u001b[0m\u001b[0;34m,\u001b[0m \u001b[0mattrs\u001b[0m\u001b[0;34m,\u001b[0m \u001b[0mtext\u001b[0m\u001b[0;34m,\u001b[0m \u001b[0mlimit\u001b[0m\u001b[0;34m,\u001b[0m \u001b[0mgenerator\u001b[0m\u001b[0;34m,\u001b[0m \u001b[0;34m**\u001b[0m\u001b[0mkwargs\u001b[0m\u001b[0;34m)\u001b[0m\u001b[0;34m\u001b[0m\u001b[0;34m\u001b[0m\u001b[0m\n\u001b[0m\u001b[1;32m   1869\u001b[0m     \u001b[0mfindAll\u001b[0m \u001b[0;34m=\u001b[0m \u001b[0mfind_all\u001b[0m       \u001b[0;31m# BS3\u001b[0m\u001b[0;34m\u001b[0m\u001b[0;34m\u001b[0m\u001b[0m\n\u001b[1;32m   1870\u001b[0m     \u001b[0mfindChildren\u001b[0m \u001b[0;34m=\u001b[0m \u001b[0mfind_all\u001b[0m  \u001b[0;31m# BS2\u001b[0m\u001b[0;34m\u001b[0m\u001b[0;34m\u001b[0m\u001b[0m\n",
      "\u001b[0;32m~/opt/anaconda3/lib/python3.9/site-packages/bs4/element.py\u001b[0m in \u001b[0;36m_find_all\u001b[0;34m(self, name, attrs, text, limit, generator, **kwargs)\u001b[0m\n\u001b[1;32m    823\u001b[0m                 \u001b[0;32mbreak\u001b[0m\u001b[0;34m\u001b[0m\u001b[0;34m\u001b[0m\u001b[0m\n\u001b[1;32m    824\u001b[0m             \u001b[0;32mif\u001b[0m \u001b[0mi\u001b[0m\u001b[0;34m:\u001b[0m\u001b[0;34m\u001b[0m\u001b[0;34m\u001b[0m\u001b[0m\n\u001b[0;32m--> 825\u001b[0;31m                 \u001b[0mfound\u001b[0m \u001b[0;34m=\u001b[0m \u001b[0mstrainer\u001b[0m\u001b[0;34m.\u001b[0m\u001b[0msearch\u001b[0m\u001b[0;34m(\u001b[0m\u001b[0mi\u001b[0m\u001b[0;34m)\u001b[0m\u001b[0;34m\u001b[0m\u001b[0;34m\u001b[0m\u001b[0m\n\u001b[0m\u001b[1;32m    826\u001b[0m                 \u001b[0;32mif\u001b[0m \u001b[0mfound\u001b[0m\u001b[0;34m:\u001b[0m\u001b[0;34m\u001b[0m\u001b[0;34m\u001b[0m\u001b[0m\n\u001b[1;32m    827\u001b[0m                     \u001b[0mresults\u001b[0m\u001b[0;34m.\u001b[0m\u001b[0mappend\u001b[0m\u001b[0;34m(\u001b[0m\u001b[0mfound\u001b[0m\u001b[0;34m)\u001b[0m\u001b[0;34m\u001b[0m\u001b[0;34m\u001b[0m\u001b[0m\n",
      "\u001b[0;32m~/opt/anaconda3/lib/python3.9/site-packages/bs4/element.py\u001b[0m in \u001b[0;36msearch\u001b[0;34m(self, markup)\u001b[0m\n\u001b[1;32m   2143\u001b[0m         \u001b[0;32melif\u001b[0m \u001b[0misinstance\u001b[0m\u001b[0;34m(\u001b[0m\u001b[0mmarkup\u001b[0m\u001b[0;34m,\u001b[0m \u001b[0mTag\u001b[0m\u001b[0;34m)\u001b[0m\u001b[0;34m:\u001b[0m\u001b[0;34m\u001b[0m\u001b[0;34m\u001b[0m\u001b[0m\n\u001b[1;32m   2144\u001b[0m             \u001b[0;32mif\u001b[0m \u001b[0;32mnot\u001b[0m \u001b[0mself\u001b[0m\u001b[0;34m.\u001b[0m\u001b[0mtext\u001b[0m \u001b[0;32mor\u001b[0m \u001b[0mself\u001b[0m\u001b[0;34m.\u001b[0m\u001b[0mname\u001b[0m \u001b[0;32mor\u001b[0m \u001b[0mself\u001b[0m\u001b[0;34m.\u001b[0m\u001b[0mattrs\u001b[0m\u001b[0;34m:\u001b[0m\u001b[0;34m\u001b[0m\u001b[0;34m\u001b[0m\u001b[0m\n\u001b[0;32m-> 2145\u001b[0;31m                 \u001b[0mfound\u001b[0m \u001b[0;34m=\u001b[0m \u001b[0mself\u001b[0m\u001b[0;34m.\u001b[0m\u001b[0msearch_tag\u001b[0m\u001b[0;34m(\u001b[0m\u001b[0mmarkup\u001b[0m\u001b[0;34m)\u001b[0m\u001b[0;34m\u001b[0m\u001b[0;34m\u001b[0m\u001b[0m\n\u001b[0m\u001b[1;32m   2146\u001b[0m         \u001b[0;31m# If it's text, make sure the text matches.\u001b[0m\u001b[0;34m\u001b[0m\u001b[0;34m\u001b[0m\u001b[0m\n\u001b[1;32m   2147\u001b[0m         \u001b[0;32melif\u001b[0m \u001b[0misinstance\u001b[0m\u001b[0;34m(\u001b[0m\u001b[0mmarkup\u001b[0m\u001b[0;34m,\u001b[0m \u001b[0mNavigableString\u001b[0m\u001b[0;34m)\u001b[0m \u001b[0;32mor\u001b[0m\u001b[0;31m \u001b[0m\u001b[0;31m\\\u001b[0m\u001b[0;34m\u001b[0m\u001b[0;34m\u001b[0m\u001b[0m\n",
      "\u001b[0;32m~/opt/anaconda3/lib/python3.9/site-packages/bs4/element.py\u001b[0m in \u001b[0;36msearch_tag\u001b[0;34m(self, markup_name, markup_attrs)\u001b[0m\n\u001b[1;32m   2085\u001b[0m \u001b[0;34m\u001b[0m\u001b[0m\n\u001b[1;32m   2086\u001b[0m         call_function_with_tag_data = (\n\u001b[0;32m-> 2087\u001b[0;31m             \u001b[0misinstance\u001b[0m\u001b[0;34m(\u001b[0m\u001b[0mself\u001b[0m\u001b[0;34m.\u001b[0m\u001b[0mname\u001b[0m\u001b[0;34m,\u001b[0m \u001b[0mCallable\u001b[0m\u001b[0;34m)\u001b[0m\u001b[0;34m\u001b[0m\u001b[0;34m\u001b[0m\u001b[0m\n\u001b[0m\u001b[1;32m   2088\u001b[0m             and not isinstance(markup_name, Tag))\n\u001b[1;32m   2089\u001b[0m \u001b[0;34m\u001b[0m\u001b[0m\n",
      "\u001b[0;31mKeyboardInterrupt\u001b[0m: "
     ]
    }
   ],
   "source": [
    "# SCRAPE ON3.COM FOR RECRUITING DATA\n",
    "players_per_yr = 500 # must be a multiple of 50\n",
    "data = scrape_on3_data(2010, 2019, players_per_yr)"
   ]
  },
  {
   "cell_type": "code",
   "execution_count": 235,
   "id": "8d017015",
   "metadata": {},
   "outputs": [],
   "source": [
    "# function to convert height to inches\n",
    "def convert_height_inches(x):\n",
    "    try:\n",
    "        y = x.split(\"-\")\n",
    "        ft = int(y[0])*12\n",
    "        inch = float(y[1])\n",
    "        return(ft+inch)\n",
    "    except:\n",
    "        return(np.nan) "
   ]
  },
  {
   "cell_type": "code",
   "execution_count": 238,
   "id": "484c16ea",
   "metadata": {},
   "outputs": [],
   "source": [
    "# convert all height data from string to inches numeric ie 6-0 -> 72\n",
    "data['Height'] = data['Height'].apply(convert_height_inches) "
   ]
  },
  {
   "cell_type": "code",
   "execution_count": 273,
   "id": "cfa9f01f",
   "metadata": {
    "scrolled": true
   },
   "outputs": [
    {
     "data": {
      "text/plain": [
       "Year              0\n",
       "Player            0\n",
       "Position          0\n",
       "Height            0\n",
       "Weight           49\n",
       "on3_Star          0\n",
       "on3_Rating        0\n",
       "247_Star          0\n",
       "247_Rating        0\n",
       "ESPN_Star         0\n",
       "ESPN_Rating       0\n",
       "Rivals_Star       0\n",
       "Rivals_Rating     0\n",
       "dtype: int64"
      ]
     },
     "execution_count": 273,
     "metadata": {},
     "output_type": "execute_result"
    }
   ],
   "source": [
    "# clean weight to remove - before converting to float\n",
    "np.sum(data=='-')"
   ]
  },
  {
   "cell_type": "code",
   "execution_count": 276,
   "id": "28a457a6",
   "metadata": {},
   "outputs": [],
   "source": [
    "# clean weight to remove - before converting to float\n",
    "data.loc[data['Weight']=='-', 'Weight'] = np.nan"
   ]
  },
  {
   "cell_type": "code",
   "execution_count": 167,
   "id": "9bea3074",
   "metadata": {
    "scrolled": true
   },
   "outputs": [
    {
     "data": {
      "text/html": [
       "<div>\n",
       "<style scoped>\n",
       "    .dataframe tbody tr th:only-of-type {\n",
       "        vertical-align: middle;\n",
       "    }\n",
       "\n",
       "    .dataframe tbody tr th {\n",
       "        vertical-align: top;\n",
       "    }\n",
       "\n",
       "    .dataframe thead th {\n",
       "        text-align: right;\n",
       "    }\n",
       "</style>\n",
       "<table border=\"1\" class=\"dataframe\">\n",
       "  <thead>\n",
       "    <tr style=\"text-align: right;\">\n",
       "      <th></th>\n",
       "      <th>Year</th>\n",
       "      <th>Player</th>\n",
       "      <th>Position</th>\n",
       "      <th>Height</th>\n",
       "      <th>Weight</th>\n",
       "      <th>on3_Star</th>\n",
       "      <th>on3_Rating</th>\n",
       "      <th>247_Star</th>\n",
       "      <th>247_Rating</th>\n",
       "      <th>ESPN_Star</th>\n",
       "      <th>ESPN_Rating</th>\n",
       "      <th>Rivals_Star</th>\n",
       "      <th>Rivals_Rating</th>\n",
       "    </tr>\n",
       "  </thead>\n",
       "  <tbody>\n",
       "    <tr>\n",
       "      <th>0</th>\n",
       "      <td>2010.0</td>\n",
       "      <td>Ronald Powell</td>\n",
       "      <td>LB</td>\n",
       "      <td>76.0</td>\n",
       "      <td>245.0</td>\n",
       "      <td>0.0</td>\n",
       "      <td>NaN</td>\n",
       "      <td>5.0</td>\n",
       "      <td>100.0</td>\n",
       "      <td>4.0</td>\n",
       "      <td>89.0</td>\n",
       "      <td>5.0</td>\n",
       "      <td>6.1</td>\n",
       "    </tr>\n",
       "    <tr>\n",
       "      <th>1</th>\n",
       "      <td>2010.0</td>\n",
       "      <td>Dominique Easley</td>\n",
       "      <td>DL</td>\n",
       "      <td>74.0</td>\n",
       "      <td>290.0</td>\n",
       "      <td>0.0</td>\n",
       "      <td>NaN</td>\n",
       "      <td>5.0</td>\n",
       "      <td>100.0</td>\n",
       "      <td>4.0</td>\n",
       "      <td>88.0</td>\n",
       "      <td>5.0</td>\n",
       "      <td>6.1</td>\n",
       "    </tr>\n",
       "    <tr>\n",
       "      <th>2</th>\n",
       "      <td>2010.0</td>\n",
       "      <td>Robert Woods</td>\n",
       "      <td>WR</td>\n",
       "      <td>72.0</td>\n",
       "      <td>190.0</td>\n",
       "      <td>0.0</td>\n",
       "      <td>NaN</td>\n",
       "      <td>5.0</td>\n",
       "      <td>100.0</td>\n",
       "      <td>4.0</td>\n",
       "      <td>87.0</td>\n",
       "      <td>5.0</td>\n",
       "      <td>6.1</td>\n",
       "    </tr>\n",
       "    <tr>\n",
       "      <th>3</th>\n",
       "      <td>2010.0</td>\n",
       "      <td>Jackson Jeffcoat</td>\n",
       "      <td>EDGE</td>\n",
       "      <td>75.0</td>\n",
       "      <td>253.0</td>\n",
       "      <td>0.0</td>\n",
       "      <td>NaN</td>\n",
       "      <td>5.0</td>\n",
       "      <td>99.0</td>\n",
       "      <td>4.0</td>\n",
       "      <td>88.0</td>\n",
       "      <td>5.0</td>\n",
       "      <td>6.1</td>\n",
       "    </tr>\n",
       "    <tr>\n",
       "      <th>4</th>\n",
       "      <td>2010.0</td>\n",
       "      <td>Seantrel Henderson</td>\n",
       "      <td>OT</td>\n",
       "      <td>79.0</td>\n",
       "      <td>331.0</td>\n",
       "      <td>0.0</td>\n",
       "      <td>NaN</td>\n",
       "      <td>5.0</td>\n",
       "      <td>99.0</td>\n",
       "      <td>4.0</td>\n",
       "      <td>86.0</td>\n",
       "      <td>5.0</td>\n",
       "      <td>6.1</td>\n",
       "    </tr>\n",
       "  </tbody>\n",
       "</table>\n",
       "</div>"
      ],
      "text/plain": [
       "     Year              Player Position  Height  Weight on3_Star  on3_Rating  \\\n",
       "0  2010.0       Ronald Powell       LB    76.0   245.0      0.0         NaN   \n",
       "1  2010.0    Dominique Easley       DL    74.0   290.0      0.0         NaN   \n",
       "2  2010.0        Robert Woods       WR    72.0   190.0      0.0         NaN   \n",
       "3  2010.0    Jackson Jeffcoat     EDGE    75.0   253.0      0.0         NaN   \n",
       "4  2010.0  Seantrel Henderson       OT    79.0   331.0      0.0         NaN   \n",
       "\n",
       "  247_Star  247_Rating ESPN_Star  ESPN_Rating Rivals_Star  Rivals_Rating  \n",
       "0      5.0       100.0       4.0         89.0         5.0            6.1  \n",
       "1      5.0       100.0       4.0         88.0         5.0            6.1  \n",
       "2      5.0       100.0       4.0         87.0         5.0            6.1  \n",
       "3      5.0        99.0       4.0         88.0         5.0            6.1  \n",
       "4      5.0        99.0       4.0         86.0         5.0            6.1  "
      ]
     },
     "execution_count": 167,
     "metadata": {},
     "output_type": "execute_result"
    }
   ],
   "source": [
    "data.head() # preview data"
   ]
  },
  {
   "cell_type": "code",
   "execution_count": 164,
   "id": "32d6fa69",
   "metadata": {},
   "outputs": [],
   "source": [
    "# convert numeric columns to correct type\n",
    "for c in data.columns[3:]:\n",
    "    data[c] = data[c].astype(float)"
   ]
  },
  {
   "cell_type": "code",
   "execution_count": 165,
   "id": "ee795766",
   "metadata": {},
   "outputs": [],
   "source": [
    "# convert star ratings back to strings \n",
    "for c in data.columns[['Star' in c for c in data.columns]]:\n",
    "    data[c] = data[c].astype(str)"
   ]
  },
  {
   "cell_type": "code",
   "execution_count": 166,
   "id": "67a58655",
   "metadata": {},
   "outputs": [],
   "source": [
    "# Jayson Oweh changed his name between college and the draft. Running with his new name: Odafe\n",
    "data.loc[data['Player']==\"Jayson Oweh\", 'Player'] = \"Odafe Oweh\"\n",
    "\n",
    "# the only real way to know this is research or prior knowledge, it also only matters if \n",
    "# the player changed thier name before getting drafted but after highschool"
   ]
  },
  {
   "cell_type": "code",
   "execution_count": 168,
   "id": "17be13ef",
   "metadata": {},
   "outputs": [],
   "source": [
    "data.to_csv('on3_recruit_scrape.csv', index=False) # store data as backup save "
   ]
  },
  {
   "cell_type": "markdown",
   "id": "4879200e",
   "metadata": {},
   "source": [
    "## DRAFT DATA\n",
    "Connect to cfbd database api to get draft history and usage data"
   ]
  },
  {
   "cell_type": "code",
   "execution_count": 39,
   "id": "55ed15c3",
   "metadata": {},
   "outputs": [],
   "source": [
    "# read in data via cfbd\n",
    "configuration = cfbd.Configuration()\n",
    "# do not share api authorization key \n",
    "configuration.api_key['Authorization'] = 'rwAsk1XLQ47qkfoozdfTGHPV5pubsib5RGfOg9FumOKJOpBqI01iWR5GwPFZTx7P'\n",
    "configuration.api_key_prefix['Authorization'] = 'Bearer'\n",
    "\n",
    "player_api = cfbd.PlayersApi(cfbd.ApiClient(configuration)) # player database API connection\n",
    "EPA_api = cfbd.MetricsApi(cfbd.ApiClient(configuration)) # metrics database API connection\n",
    "draft_api = cfbd.DraftApi(cfbd.ApiClient(configuration)) # draft database API connection\n",
    "recruit_api = cfbd.RecruitingApi(cfbd.ApiClient(configuration)) # recruits database API connection"
   ]
  },
  {
   "cell_type": "code",
   "execution_count": 1480,
   "id": "967b7468",
   "metadata": {},
   "outputs": [],
   "source": [
    "# function to get recruit data. cfbd only has 1 rating per player tho, not ratings from all services, hence why i scraped on3\n",
    "def get_recruit_cfbd(start_yr, end_yr):\n",
    "    for i in range(start_yr, end_yr+1):\n",
    "        recruits = recruit_api.get_recruiting_players(year=int(i))\n",
    "        cruits = pd.DataFrame.from_records([dict(p_id=r.athlete_id, year=r.year, player=r.name, committed_to=r.committed_to, country=r.country,\n",
    "                                         state_province=r.state_province) for r in recruits])[0:800] # top 800\n",
    "        try:\n",
    "            out = pd.concat([out, cruits])\n",
    "        except:\n",
    "            out = cruits\n",
    "    return(out)\n",
    "    "
   ]
  },
  {
   "cell_type": "code",
   "execution_count": 40,
   "id": "ecf14b75",
   "metadata": {},
   "outputs": [],
   "source": [
    "# function to make api calls to draft database\n",
    "def get_draftpicks_cfbd(start_yr, end_yr):\n",
    "    for i in range(start_yr, end_yr+1):\n",
    "        draftpicks = draft_api.get_draft_picks(year=i)\n",
    "        picks = pd.DataFrame.from_records([dict(year=p.year, player=p.name, drafted_from=p.college_team,\n",
    "                                                cfb_player_id=p.college_athlete_id, \n",
    "                                                draft_position=p.position, draft_grade=p.pre_draft_grade, draft_round=p.round, \n",
    "                                                pick=p.pick, overall=p.overall) for p in draftpicks])\n",
    "        try:\n",
    "            out = pd.concat([out, picks])\n",
    "        except:\n",
    "            out = picks\n",
    "    return(out)"
   ]
  },
  {
   "cell_type": "markdown",
   "id": "1450217a",
   "metadata": {},
   "source": [
    "#### CFBD.com has some recruiting data available, however they only have \"composite\" recruit ratings not the ratings of players from all individual services. I joined their recruiting info here to take advantage of any 'primary-key' unique IDs they already have. Helping me join to their draft data later. \n",
    "\n",
    "I joined using their unique IDs where possible."
   ]
  },
  {
   "cell_type": "code",
   "execution_count": 1481,
   "id": "10039943",
   "metadata": {
    "scrolled": false
   },
   "outputs": [],
   "source": [
    "# top 800 recruits here for each year. cfbd uses composite ranks which differ slightly from On3\n",
    "recruit_info = get_recruit_cfbd(2010, 2019) "
   ]
  },
  {
   "cell_type": "code",
   "execution_count": 1482,
   "id": "90574458",
   "metadata": {},
   "outputs": [],
   "source": [
    "recruit_info.to_csv(\"recruit_commitSchool_state.csv\", index=False) # save data at intermediate step"
   ]
  },
  {
   "cell_type": "code",
   "execution_count": 28,
   "id": "3df598a0",
   "metadata": {},
   "outputs": [],
   "source": [
    "recruit_info.loc[recruit_info['player']==\"Jayson Oweh\", 'player'] = \"Odafe Oweh\" # correct Odafe's name"
   ]
  },
  {
   "cell_type": "code",
   "execution_count": 31,
   "id": "d2b1ebe3",
   "metadata": {},
   "outputs": [],
   "source": [
    "# merge recruit-ID commit school & home states by year\n",
    "out2 = data.merge(recruit_info, how='left', left_on=[\"Player\", 'Year'], right_on=['player', 'year'])"
   ]
  },
  {
   "cell_type": "code",
   "execution_count": 32,
   "id": "c50e1df5",
   "metadata": {},
   "outputs": [],
   "source": [
    "out2.drop(columns=['player', 'year'], inplace=True) # drop repeated columns from join"
   ]
  },
  {
   "cell_type": "code",
   "execution_count": 33,
   "id": "5b7620cc",
   "metadata": {
    "scrolled": true
   },
   "outputs": [],
   "source": [
    "# reorder columns so columns span time correctly \n",
    "cols = out2.columns.tolist()\n",
    "new_cols = cols[:5] + cols[-4:] + cols[5:-4]\n",
    "out2 = out2[new_cols]"
   ]
  },
  {
   "cell_type": "code",
   "execution_count": 34,
   "id": "9a09a9cd",
   "metadata": {
    "scrolled": true
   },
   "outputs": [
    {
     "name": "stdout",
     "output_type": "stream",
     "text": [
      "Some players are duplicated on join, bc they have same name and from same year. No easy way around this w/o assigning IDs, but then those would be inconsistent with cfbd\n",
      "\n",
      "2010.0 duplicates = 2\n",
      "2011.0 duplicates = 4\n",
      "2012.0 duplicates = 5\n",
      "2013.0 duplicates = 2\n",
      "2014.0 duplicates = 3\n",
      "2015.0 duplicates = 1\n",
      "2016.0 duplicates = 0\n",
      "2017.0 duplicates = 1\n",
      "2018.0 duplicates = 3\n",
      "2019.0 duplicates = 8\n"
     ]
    }
   ],
   "source": [
    "print('Some players are duplicated on join, bc they have same name and from same year. No easy way around this w/o assigning IDs, but then those would be inconsistent with cfbd\\n')\n",
    "for i in out2['Year'].unique():\n",
    "    print(str(i) + ' duplicates = '+ str(np.sum(out2['Year']==i)-500)) \n",
    "                # anything over 500 here i know is a duplicate bc i only originally grabbed 500 players per year, hence the -500"
   ]
  },
  {
   "cell_type": "code",
   "execution_count": 41,
   "id": "21b74b1f",
   "metadata": {},
   "outputs": [],
   "source": [
    "draftpick = get_draftpicks_cfbd(2012,2023) # get dratpick data from cfbd.com for years shown"
   ]
  },
  {
   "cell_type": "code",
   "execution_count": 42,
   "id": "ed654852",
   "metadata": {
    "scrolled": false
   },
   "outputs": [
    {
     "data": {
      "text/html": [
       "<div>\n",
       "<style scoped>\n",
       "    .dataframe tbody tr th:only-of-type {\n",
       "        vertical-align: middle;\n",
       "    }\n",
       "\n",
       "    .dataframe tbody tr th {\n",
       "        vertical-align: top;\n",
       "    }\n",
       "\n",
       "    .dataframe thead th {\n",
       "        text-align: right;\n",
       "    }\n",
       "</style>\n",
       "<table border=\"1\" class=\"dataframe\">\n",
       "  <thead>\n",
       "    <tr style=\"text-align: right;\">\n",
       "      <th></th>\n",
       "      <th>year</th>\n",
       "      <th>player</th>\n",
       "      <th>drafted_from</th>\n",
       "      <th>cfb_player_id</th>\n",
       "      <th>draft_position</th>\n",
       "      <th>draft_grade</th>\n",
       "      <th>draft_round</th>\n",
       "      <th>pick</th>\n",
       "      <th>overall</th>\n",
       "    </tr>\n",
       "  </thead>\n",
       "  <tbody>\n",
       "    <tr>\n",
       "      <th>30</th>\n",
       "      <td>2021</td>\n",
       "      <td>Odafe Oweh</td>\n",
       "      <td>Penn State</td>\n",
       "      <td>4361422.0</td>\n",
       "      <td>Outside Linebacker</td>\n",
       "      <td>87.0</td>\n",
       "      <td>1</td>\n",
       "      <td>31</td>\n",
       "      <td>31</td>\n",
       "    </tr>\n",
       "  </tbody>\n",
       "</table>\n",
       "</div>"
      ],
      "text/plain": [
       "    year      player drafted_from  cfb_player_id      draft_position  \\\n",
       "30  2021  Odafe Oweh   Penn State      4361422.0  Outside Linebacker   \n",
       "\n",
       "    draft_grade  draft_round  pick  overall  \n",
       "30         87.0            1    31       31  "
      ]
     },
     "execution_count": 42,
     "metadata": {},
     "output_type": "execute_result"
    }
   ],
   "source": [
    "# confirm jayson changed his name to odafe\n",
    "draftpick[draftpick[\"player\"]==\"Odafe Oweh\"]"
   ]
  },
  {
   "cell_type": "code",
   "execution_count": 43,
   "id": "59d89af0",
   "metadata": {},
   "outputs": [],
   "source": [
    "no_id = out2[out2.p_id.isna()] # subset of data with no player ids provided by cfbd"
   ]
  },
  {
   "cell_type": "code",
   "execution_count": 44,
   "id": "78548d2c",
   "metadata": {},
   "outputs": [],
   "source": [
    "id_ = out2[out2.p_id.isna()==False] # subset with player ids provided"
   ]
  },
  {
   "cell_type": "code",
   "execution_count": 45,
   "id": "6c49a19e",
   "metadata": {},
   "outputs": [],
   "source": [
    "tmp = id_.merge(draftpick, how='left', left_on=['p_id'], right_on=['cfb_player_id']) # merge on id where we can"
   ]
  },
  {
   "cell_type": "code",
   "execution_count": 46,
   "id": "261dcce3",
   "metadata": {},
   "outputs": [],
   "source": [
    "tmp2 = no_id.merge(draftpick, how='left', left_on=['Player'], right_on=['player']) # merge on player name otherwise"
   ]
  },
  {
   "cell_type": "code",
   "execution_count": 47,
   "id": "73b5b121",
   "metadata": {},
   "outputs": [],
   "source": [
    "merged = pd.concat([tmp, tmp2]) # concat two pre-merged subsets back"
   ]
  },
  {
   "cell_type": "code",
   "execution_count": 48,
   "id": "b4b1ee16",
   "metadata": {},
   "outputs": [],
   "source": [
    "out = merged.rename(columns={'year':'draft_year'}) # rename new year column to be draft_year\n",
    "out.drop(columns=['player', 'p_id'], inplace=True) # drop columns from join we don't need"
   ]
  },
  {
   "cell_type": "code",
   "execution_count": 49,
   "id": "7ca6cf23",
   "metadata": {
    "scrolled": true
   },
   "outputs": [
    {
     "name": "stdout",
     "output_type": "stream",
     "text": [
      "\t 2010.0 \n",
      " 234    Jeremy Johnson\n",
      "7          Matt James\n",
      "Name: Player, dtype: object \n",
      "\n",
      "\t 2011.0 \n",
      " 606    Mykkele Thompson\n",
      "661      Darrian Miller\n",
      "761      Darrian Miller\n",
      "762      Darrian Miller\n",
      "95      Kadetrix Marcus\n",
      "Name: Player, dtype: object \n",
      "\n",
      "\t 2012.0 \n",
      " 1037    Justin Thomas\n",
      "1066      Tyler Hayes\n",
      "1192    Justin Thomas\n",
      "1193    Justin Thomas\n",
      "1272      Chris Brown\n",
      "1302      Chris Brown\n",
      "1303      Chris Brown\n",
      "Name: Player, dtype: object \n",
      "\n",
      "\t 2013.0 \n",
      " 1519      Bucky Hodges\n",
      "1808    Jaleel Hytchye\n",
      "Name: Player, dtype: object \n",
      "\n",
      "\t 2014.0 \n",
      " 2168    Chris Williams\n",
      "2181    Chris Williams\n",
      "2182    Chris Williams\n",
      "193        Dyshon Sims\n",
      "Name: Player, dtype: object \n",
      "\n",
      "\t 2015.0 \n",
      " 2549    Darrion Daniels\n",
      "Name: Player, dtype: object \n",
      "\n",
      "\t 2016.0 \n",
      " Series([], Name: Player, dtype: object) \n",
      "\n",
      "\t 2017.0 \n",
      " 3336    Jordan Williams\n",
      "3573     Hunter Johnson\n",
      "Name: Player, dtype: object \n",
      "\n",
      "\t 2018.0 \n",
      " 3826    Brian Hightower\n",
      "4003     Marquez Ezzard\n",
      "378        Jordan Davis\n",
      "Name: Player, dtype: object \n",
      "\n",
      "\t 2019.0 \n",
      " 4265        Kevin Harris\n",
      "4412    Cameron Williams\n",
      "4413    Cameron Williams\n",
      "4457    Cameron Williams\n",
      "4458    Cameron Williams\n",
      "4459    Cameron Williams\n",
      "4556    Cameron Williams\n",
      "4557    Cameron Williams\n",
      "4558    Cameron Williams\n",
      "406           Tony Davis\n",
      "Name: Player, dtype: object \n",
      "\n"
     ]
    }
   ],
   "source": [
    "# players with duplicate names either inherently in my pull or after left-join with recruit/draft. This could also arise if recruit/draft data has duplicate names\n",
    "for y in out.Year.unique():\n",
    "    yr = out.loc[out['Year']==y]\n",
    "    print('\\t',y,'\\n', yr[yr.Player.duplicated()].Player, '\\n')"
   ]
  },
  {
   "cell_type": "code",
   "execution_count": 50,
   "id": "48a01d7e",
   "metadata": {
    "scrolled": true
   },
   "outputs": [
    {
     "data": {
      "text/html": [
       "<div>\n",
       "<style scoped>\n",
       "    .dataframe tbody tr th:only-of-type {\n",
       "        vertical-align: middle;\n",
       "    }\n",
       "\n",
       "    .dataframe tbody tr th {\n",
       "        vertical-align: top;\n",
       "    }\n",
       "\n",
       "    .dataframe thead th {\n",
       "        text-align: right;\n",
       "    }\n",
       "</style>\n",
       "<table border=\"1\" class=\"dataframe\">\n",
       "  <thead>\n",
       "    <tr style=\"text-align: right;\">\n",
       "      <th></th>\n",
       "      <th>Year</th>\n",
       "      <th>Player</th>\n",
       "      <th>Position</th>\n",
       "      <th>Height</th>\n",
       "      <th>Weight</th>\n",
       "      <th>committed_to</th>\n",
       "      <th>country</th>\n",
       "      <th>state_province</th>\n",
       "      <th>on3_Star</th>\n",
       "      <th>on3_Rating</th>\n",
       "      <th>...</th>\n",
       "      <th>Rivals_Star</th>\n",
       "      <th>Rivals_Rating</th>\n",
       "      <th>draft_year</th>\n",
       "      <th>drafted_from</th>\n",
       "      <th>cfb_player_id</th>\n",
       "      <th>draft_position</th>\n",
       "      <th>draft_grade</th>\n",
       "      <th>draft_round</th>\n",
       "      <th>pick</th>\n",
       "      <th>overall</th>\n",
       "    </tr>\n",
       "  </thead>\n",
       "  <tbody>\n",
       "    <tr>\n",
       "      <th>0</th>\n",
       "      <td>2010.0</td>\n",
       "      <td>Ronald Powell</td>\n",
       "      <td>LB</td>\n",
       "      <td>76.0</td>\n",
       "      <td>245.0</td>\n",
       "      <td>Florida</td>\n",
       "      <td>USA</td>\n",
       "      <td>CA</td>\n",
       "      <td>0.0</td>\n",
       "      <td>NaN</td>\n",
       "      <td>...</td>\n",
       "      <td>5.0</td>\n",
       "      <td>6.1</td>\n",
       "      <td>2014.0</td>\n",
       "      <td>Florida</td>\n",
       "      <td>501558.0</td>\n",
       "      <td>Outside Linebacker</td>\n",
       "      <td>48.0</td>\n",
       "      <td>5.0</td>\n",
       "      <td>29.0</td>\n",
       "      <td>169.0</td>\n",
       "    </tr>\n",
       "    <tr>\n",
       "      <th>1</th>\n",
       "      <td>2010.0</td>\n",
       "      <td>Dominique Easley</td>\n",
       "      <td>DL</td>\n",
       "      <td>74.0</td>\n",
       "      <td>290.0</td>\n",
       "      <td>Florida</td>\n",
       "      <td>USA</td>\n",
       "      <td>NY</td>\n",
       "      <td>0.0</td>\n",
       "      <td>NaN</td>\n",
       "      <td>...</td>\n",
       "      <td>5.0</td>\n",
       "      <td>6.1</td>\n",
       "      <td>2014.0</td>\n",
       "      <td>Florida</td>\n",
       "      <td>503961.0</td>\n",
       "      <td>Defensive Tackle</td>\n",
       "      <td>77.0</td>\n",
       "      <td>1.0</td>\n",
       "      <td>29.0</td>\n",
       "      <td>29.0</td>\n",
       "    </tr>\n",
       "    <tr>\n",
       "      <th>2</th>\n",
       "      <td>2010.0</td>\n",
       "      <td>Robert Woods</td>\n",
       "      <td>WR</td>\n",
       "      <td>72.0</td>\n",
       "      <td>190.0</td>\n",
       "      <td>USC</td>\n",
       "      <td>USA</td>\n",
       "      <td>CA</td>\n",
       "      <td>0.0</td>\n",
       "      <td>NaN</td>\n",
       "      <td>...</td>\n",
       "      <td>5.0</td>\n",
       "      <td>6.1</td>\n",
       "      <td>2013.0</td>\n",
       "      <td>USC</td>\n",
       "      <td>500234.0</td>\n",
       "      <td>Wide Receiver</td>\n",
       "      <td>88.0</td>\n",
       "      <td>2.0</td>\n",
       "      <td>9.0</td>\n",
       "      <td>41.0</td>\n",
       "    </tr>\n",
       "    <tr>\n",
       "      <th>3</th>\n",
       "      <td>2010.0</td>\n",
       "      <td>Jackson Jeffcoat</td>\n",
       "      <td>EDGE</td>\n",
       "      <td>75.0</td>\n",
       "      <td>253.0</td>\n",
       "      <td>Texas</td>\n",
       "      <td>USA</td>\n",
       "      <td>TX</td>\n",
       "      <td>0.0</td>\n",
       "      <td>NaN</td>\n",
       "      <td>...</td>\n",
       "      <td>5.0</td>\n",
       "      <td>6.1</td>\n",
       "      <td>NaN</td>\n",
       "      <td>NaN</td>\n",
       "      <td>NaN</td>\n",
       "      <td>NaN</td>\n",
       "      <td>NaN</td>\n",
       "      <td>NaN</td>\n",
       "      <td>NaN</td>\n",
       "      <td>NaN</td>\n",
       "    </tr>\n",
       "    <tr>\n",
       "      <th>4</th>\n",
       "      <td>2010.0</td>\n",
       "      <td>Seantrel Henderson</td>\n",
       "      <td>OT</td>\n",
       "      <td>79.0</td>\n",
       "      <td>331.0</td>\n",
       "      <td>Miami</td>\n",
       "      <td>USA</td>\n",
       "      <td>MN</td>\n",
       "      <td>0.0</td>\n",
       "      <td>NaN</td>\n",
       "      <td>...</td>\n",
       "      <td>5.0</td>\n",
       "      <td>6.1</td>\n",
       "      <td>2014.0</td>\n",
       "      <td>Miami</td>\n",
       "      <td>-1019775.0</td>\n",
       "      <td>Offensive Tackle</td>\n",
       "      <td>53.0</td>\n",
       "      <td>7.0</td>\n",
       "      <td>22.0</td>\n",
       "      <td>237.0</td>\n",
       "    </tr>\n",
       "    <tr>\n",
       "      <th>...</th>\n",
       "      <td>...</td>\n",
       "      <td>...</td>\n",
       "      <td>...</td>\n",
       "      <td>...</td>\n",
       "      <td>...</td>\n",
       "      <td>...</td>\n",
       "      <td>...</td>\n",
       "      <td>...</td>\n",
       "      <td>...</td>\n",
       "      <td>...</td>\n",
       "      <td>...</td>\n",
       "      <td>...</td>\n",
       "      <td>...</td>\n",
       "      <td>...</td>\n",
       "      <td>...</td>\n",
       "      <td>...</td>\n",
       "      <td>...</td>\n",
       "      <td>...</td>\n",
       "      <td>...</td>\n",
       "      <td>...</td>\n",
       "      <td>...</td>\n",
       "    </tr>\n",
       "    <tr>\n",
       "      <th>427</th>\n",
       "      <td>2019.0</td>\n",
       "      <td>CJ Boone</td>\n",
       "      <td>WR</td>\n",
       "      <td>75.0</td>\n",
       "      <td>170.0</td>\n",
       "      <td>Missouri</td>\n",
       "      <td>USA</td>\n",
       "      <td>MO</td>\n",
       "      <td>0.0</td>\n",
       "      <td>NaN</td>\n",
       "      <td>...</td>\n",
       "      <td>3.0</td>\n",
       "      <td>5.7</td>\n",
       "      <td>NaN</td>\n",
       "      <td>NaN</td>\n",
       "      <td>NaN</td>\n",
       "      <td>NaN</td>\n",
       "      <td>NaN</td>\n",
       "      <td>NaN</td>\n",
       "      <td>NaN</td>\n",
       "      <td>NaN</td>\n",
       "    </tr>\n",
       "    <tr>\n",
       "      <th>428</th>\n",
       "      <td>2019.0</td>\n",
       "      <td>Tamauzia Brown</td>\n",
       "      <td>WR</td>\n",
       "      <td>73.0</td>\n",
       "      <td>175.0</td>\n",
       "      <td>NaN</td>\n",
       "      <td>USA</td>\n",
       "      <td>TX</td>\n",
       "      <td>0.0</td>\n",
       "      <td>NaN</td>\n",
       "      <td>...</td>\n",
       "      <td>4.0</td>\n",
       "      <td>5.8</td>\n",
       "      <td>NaN</td>\n",
       "      <td>NaN</td>\n",
       "      <td>NaN</td>\n",
       "      <td>NaN</td>\n",
       "      <td>NaN</td>\n",
       "      <td>NaN</td>\n",
       "      <td>NaN</td>\n",
       "      <td>NaN</td>\n",
       "    </tr>\n",
       "    <tr>\n",
       "      <th>429</th>\n",
       "      <td>2019.0</td>\n",
       "      <td>Brieon Fuller</td>\n",
       "      <td>WR</td>\n",
       "      <td>72.0</td>\n",
       "      <td>180.0</td>\n",
       "      <td>NaN</td>\n",
       "      <td>USA</td>\n",
       "      <td>FL</td>\n",
       "      <td>0.0</td>\n",
       "      <td>NaN</td>\n",
       "      <td>...</td>\n",
       "      <td>3.0</td>\n",
       "      <td>5.7</td>\n",
       "      <td>NaN</td>\n",
       "      <td>NaN</td>\n",
       "      <td>NaN</td>\n",
       "      <td>NaN</td>\n",
       "      <td>NaN</td>\n",
       "      <td>NaN</td>\n",
       "      <td>NaN</td>\n",
       "      <td>NaN</td>\n",
       "    </tr>\n",
       "    <tr>\n",
       "      <th>430</th>\n",
       "      <td>2019.0</td>\n",
       "      <td>Genson Hooper-Price</td>\n",
       "      <td>WR</td>\n",
       "      <td>77.0</td>\n",
       "      <td>206.0</td>\n",
       "      <td>Northwestern</td>\n",
       "      <td>USA</td>\n",
       "      <td>TX</td>\n",
       "      <td>0.0</td>\n",
       "      <td>NaN</td>\n",
       "      <td>...</td>\n",
       "      <td>3.0</td>\n",
       "      <td>5.6</td>\n",
       "      <td>NaN</td>\n",
       "      <td>NaN</td>\n",
       "      <td>NaN</td>\n",
       "      <td>NaN</td>\n",
       "      <td>NaN</td>\n",
       "      <td>NaN</td>\n",
       "      <td>NaN</td>\n",
       "      <td>NaN</td>\n",
       "    </tr>\n",
       "    <tr>\n",
       "      <th>431</th>\n",
       "      <td>2019.0</td>\n",
       "      <td>Maurice Goolsby</td>\n",
       "      <td>WR</td>\n",
       "      <td>77.0</td>\n",
       "      <td>196.0</td>\n",
       "      <td>Florida State</td>\n",
       "      <td>USA</td>\n",
       "      <td>FL</td>\n",
       "      <td>0.0</td>\n",
       "      <td>NaN</td>\n",
       "      <td>...</td>\n",
       "      <td>4.0</td>\n",
       "      <td>5.8</td>\n",
       "      <td>NaN</td>\n",
       "      <td>NaN</td>\n",
       "      <td>NaN</td>\n",
       "      <td>NaN</td>\n",
       "      <td>NaN</td>\n",
       "      <td>NaN</td>\n",
       "      <td>NaN</td>\n",
       "      <td>NaN</td>\n",
       "    </tr>\n",
       "  </tbody>\n",
       "</table>\n",
       "<p>5029 rows × 24 columns</p>\n",
       "</div>"
      ],
      "text/plain": [
       "       Year               Player Position  Height  Weight   committed_to  \\\n",
       "0    2010.0        Ronald Powell       LB    76.0   245.0        Florida   \n",
       "1    2010.0     Dominique Easley       DL    74.0   290.0        Florida   \n",
       "2    2010.0         Robert Woods       WR    72.0   190.0            USC   \n",
       "3    2010.0     Jackson Jeffcoat     EDGE    75.0   253.0          Texas   \n",
       "4    2010.0   Seantrel Henderson       OT    79.0   331.0          Miami   \n",
       "..      ...                  ...      ...     ...     ...            ...   \n",
       "427  2019.0             CJ Boone       WR    75.0   170.0       Missouri   \n",
       "428  2019.0       Tamauzia Brown       WR    73.0   175.0            NaN   \n",
       "429  2019.0        Brieon Fuller       WR    72.0   180.0            NaN   \n",
       "430  2019.0  Genson Hooper-Price       WR    77.0   206.0   Northwestern   \n",
       "431  2019.0      Maurice Goolsby       WR    77.0   196.0  Florida State   \n",
       "\n",
       "    country state_province  on3_Star  on3_Rating  ...  Rivals_Star  \\\n",
       "0       USA             CA       0.0         NaN  ...          5.0   \n",
       "1       USA             NY       0.0         NaN  ...          5.0   \n",
       "2       USA             CA       0.0         NaN  ...          5.0   \n",
       "3       USA             TX       0.0         NaN  ...          5.0   \n",
       "4       USA             MN       0.0         NaN  ...          5.0   \n",
       "..      ...            ...       ...         ...  ...          ...   \n",
       "427     USA             MO       0.0         NaN  ...          3.0   \n",
       "428     USA             TX       0.0         NaN  ...          4.0   \n",
       "429     USA             FL       0.0         NaN  ...          3.0   \n",
       "430     USA             TX       0.0         NaN  ...          3.0   \n",
       "431     USA             FL       0.0         NaN  ...          4.0   \n",
       "\n",
       "     Rivals_Rating  draft_year  drafted_from  cfb_player_id  \\\n",
       "0              6.1      2014.0       Florida       501558.0   \n",
       "1              6.1      2014.0       Florida       503961.0   \n",
       "2              6.1      2013.0           USC       500234.0   \n",
       "3              6.1         NaN           NaN            NaN   \n",
       "4              6.1      2014.0         Miami     -1019775.0   \n",
       "..             ...         ...           ...            ...   \n",
       "427            5.7         NaN           NaN            NaN   \n",
       "428            5.8         NaN           NaN            NaN   \n",
       "429            5.7         NaN           NaN            NaN   \n",
       "430            5.6         NaN           NaN            NaN   \n",
       "431            5.8         NaN           NaN            NaN   \n",
       "\n",
       "         draft_position  draft_grade draft_round  pick overall  \n",
       "0    Outside Linebacker         48.0         5.0  29.0   169.0  \n",
       "1      Defensive Tackle         77.0         1.0  29.0    29.0  \n",
       "2         Wide Receiver         88.0         2.0   9.0    41.0  \n",
       "3                   NaN          NaN         NaN   NaN     NaN  \n",
       "4      Offensive Tackle         53.0         7.0  22.0   237.0  \n",
       "..                  ...          ...         ...   ...     ...  \n",
       "427                 NaN          NaN         NaN   NaN     NaN  \n",
       "428                 NaN          NaN         NaN   NaN     NaN  \n",
       "429                 NaN          NaN         NaN   NaN     NaN  \n",
       "430                 NaN          NaN         NaN   NaN     NaN  \n",
       "431                 NaN          NaN         NaN   NaN     NaN  \n",
       "\n",
       "[5029 rows x 24 columns]"
      ]
     },
     "execution_count": 50,
     "metadata": {},
     "output_type": "execute_result"
    }
   ],
   "source": [
    "out # preview final data"
   ]
  },
  {
   "cell_type": "markdown",
   "id": "3529cdc4",
   "metadata": {},
   "source": [
    "**Write out final data**"
   ]
  },
  {
   "cell_type": "code",
   "execution_count": 51,
   "id": "847b93da",
   "metadata": {},
   "outputs": [],
   "source": [
    "out.to_csv(\"project_data.csv\", index=False) # save data for project "
   ]
  },
  {
   "cell_type": "code",
   "execution_count": 52,
   "id": "d568e4b8",
   "metadata": {
    "scrolled": true
   },
   "outputs": [
    {
     "name": "stdout",
     "output_type": "stream",
     "text": [
      "# duplicated player names in 2010.0 = 2\n",
      "# duplicated player names in 2011.0 = 5\n",
      "# duplicated player names in 2012.0 = 7\n",
      "# duplicated player names in 2013.0 = 2\n",
      "# duplicated player names in 2014.0 = 4\n",
      "# duplicated player names in 2015.0 = 1\n",
      "# duplicated player names in 2016.0 = 0\n",
      "# duplicated player names in 2017.0 = 2\n",
      "# duplicated player names in 2018.0 = 3\n",
      "# duplicated player names in 2019.0 = 10\n",
      "\n",
      " Total duplicated rows:  36\n"
     ]
    }
   ],
   "source": [
    "# number of duplicated player names in each year\n",
    "y = 0\n",
    "for i in out.Year.unique():\n",
    "    x = np.sum(out.loc[ out['Year']==i, 'Player'].duplicated())\n",
    "    print('# duplicated player names in '+str(i)+' = '+str(x))\n",
    "    y = y+x\n",
    "print('\\n Total duplicated rows: ', y)"
   ]
  },
  {
   "cell_type": "markdown",
   "id": "b531ba21",
   "metadata": {},
   "source": [
    "## Exploratory Analysis\n"
   ]
  },
  {
   "cell_type": "code",
   "execution_count": 2,
   "id": "599f6af1",
   "metadata": {},
   "outputs": [],
   "source": [
    "import matplotlib.pyplot as plt"
   ]
  },
  {
   "cell_type": "code",
   "execution_count": 54,
   "id": "4ae4e113",
   "metadata": {},
   "outputs": [],
   "source": [
    "final_data = pd.read_csv(\"project_data.csv\") # read in project data save"
   ]
  },
  {
   "cell_type": "code",
   "execution_count": 55,
   "id": "5a7df2ee",
   "metadata": {
    "scrolled": true
   },
   "outputs": [
    {
     "data": {
      "text/html": [
       "<div>\n",
       "<style scoped>\n",
       "    .dataframe tbody tr th:only-of-type {\n",
       "        vertical-align: middle;\n",
       "    }\n",
       "\n",
       "    .dataframe tbody tr th {\n",
       "        vertical-align: top;\n",
       "    }\n",
       "\n",
       "    .dataframe thead th {\n",
       "        text-align: right;\n",
       "    }\n",
       "</style>\n",
       "<table border=\"1\" class=\"dataframe\">\n",
       "  <thead>\n",
       "    <tr style=\"text-align: right;\">\n",
       "      <th></th>\n",
       "      <th>Year</th>\n",
       "      <th>Player</th>\n",
       "      <th>Position</th>\n",
       "      <th>Height</th>\n",
       "      <th>Weight</th>\n",
       "      <th>committed_to</th>\n",
       "      <th>country</th>\n",
       "      <th>state_province</th>\n",
       "      <th>on3_Star</th>\n",
       "      <th>on3_Rating</th>\n",
       "      <th>...</th>\n",
       "      <th>Rivals_Star</th>\n",
       "      <th>Rivals_Rating</th>\n",
       "      <th>draft_year</th>\n",
       "      <th>drafted_from</th>\n",
       "      <th>cfb_player_id</th>\n",
       "      <th>draft_position</th>\n",
       "      <th>draft_grade</th>\n",
       "      <th>draft_round</th>\n",
       "      <th>pick</th>\n",
       "      <th>overall</th>\n",
       "    </tr>\n",
       "  </thead>\n",
       "  <tbody>\n",
       "    <tr>\n",
       "      <th>0</th>\n",
       "      <td>2010.0</td>\n",
       "      <td>Ronald Powell</td>\n",
       "      <td>LB</td>\n",
       "      <td>76.0</td>\n",
       "      <td>245.0</td>\n",
       "      <td>Florida</td>\n",
       "      <td>USA</td>\n",
       "      <td>CA</td>\n",
       "      <td>0.0</td>\n",
       "      <td>NaN</td>\n",
       "      <td>...</td>\n",
       "      <td>5.0</td>\n",
       "      <td>6.1</td>\n",
       "      <td>2014.0</td>\n",
       "      <td>Florida</td>\n",
       "      <td>501558.0</td>\n",
       "      <td>Outside Linebacker</td>\n",
       "      <td>48.0</td>\n",
       "      <td>5.0</td>\n",
       "      <td>29.0</td>\n",
       "      <td>169.0</td>\n",
       "    </tr>\n",
       "    <tr>\n",
       "      <th>1</th>\n",
       "      <td>2010.0</td>\n",
       "      <td>Dominique Easley</td>\n",
       "      <td>DL</td>\n",
       "      <td>74.0</td>\n",
       "      <td>290.0</td>\n",
       "      <td>Florida</td>\n",
       "      <td>USA</td>\n",
       "      <td>NY</td>\n",
       "      <td>0.0</td>\n",
       "      <td>NaN</td>\n",
       "      <td>...</td>\n",
       "      <td>5.0</td>\n",
       "      <td>6.1</td>\n",
       "      <td>2014.0</td>\n",
       "      <td>Florida</td>\n",
       "      <td>503961.0</td>\n",
       "      <td>Defensive Tackle</td>\n",
       "      <td>77.0</td>\n",
       "      <td>1.0</td>\n",
       "      <td>29.0</td>\n",
       "      <td>29.0</td>\n",
       "    </tr>\n",
       "    <tr>\n",
       "      <th>2</th>\n",
       "      <td>2010.0</td>\n",
       "      <td>Robert Woods</td>\n",
       "      <td>WR</td>\n",
       "      <td>72.0</td>\n",
       "      <td>190.0</td>\n",
       "      <td>USC</td>\n",
       "      <td>USA</td>\n",
       "      <td>CA</td>\n",
       "      <td>0.0</td>\n",
       "      <td>NaN</td>\n",
       "      <td>...</td>\n",
       "      <td>5.0</td>\n",
       "      <td>6.1</td>\n",
       "      <td>2013.0</td>\n",
       "      <td>USC</td>\n",
       "      <td>500234.0</td>\n",
       "      <td>Wide Receiver</td>\n",
       "      <td>88.0</td>\n",
       "      <td>2.0</td>\n",
       "      <td>9.0</td>\n",
       "      <td>41.0</td>\n",
       "    </tr>\n",
       "    <tr>\n",
       "      <th>3</th>\n",
       "      <td>2010.0</td>\n",
       "      <td>Jackson Jeffcoat</td>\n",
       "      <td>EDGE</td>\n",
       "      <td>75.0</td>\n",
       "      <td>253.0</td>\n",
       "      <td>Texas</td>\n",
       "      <td>USA</td>\n",
       "      <td>TX</td>\n",
       "      <td>0.0</td>\n",
       "      <td>NaN</td>\n",
       "      <td>...</td>\n",
       "      <td>5.0</td>\n",
       "      <td>6.1</td>\n",
       "      <td>NaN</td>\n",
       "      <td>NaN</td>\n",
       "      <td>NaN</td>\n",
       "      <td>NaN</td>\n",
       "      <td>NaN</td>\n",
       "      <td>NaN</td>\n",
       "      <td>NaN</td>\n",
       "      <td>NaN</td>\n",
       "    </tr>\n",
       "    <tr>\n",
       "      <th>4</th>\n",
       "      <td>2010.0</td>\n",
       "      <td>Seantrel Henderson</td>\n",
       "      <td>OT</td>\n",
       "      <td>79.0</td>\n",
       "      <td>331.0</td>\n",
       "      <td>Miami</td>\n",
       "      <td>USA</td>\n",
       "      <td>MN</td>\n",
       "      <td>0.0</td>\n",
       "      <td>NaN</td>\n",
       "      <td>...</td>\n",
       "      <td>5.0</td>\n",
       "      <td>6.1</td>\n",
       "      <td>2014.0</td>\n",
       "      <td>Miami</td>\n",
       "      <td>-1019775.0</td>\n",
       "      <td>Offensive Tackle</td>\n",
       "      <td>53.0</td>\n",
       "      <td>7.0</td>\n",
       "      <td>22.0</td>\n",
       "      <td>237.0</td>\n",
       "    </tr>\n",
       "    <tr>\n",
       "      <th>...</th>\n",
       "      <td>...</td>\n",
       "      <td>...</td>\n",
       "      <td>...</td>\n",
       "      <td>...</td>\n",
       "      <td>...</td>\n",
       "      <td>...</td>\n",
       "      <td>...</td>\n",
       "      <td>...</td>\n",
       "      <td>...</td>\n",
       "      <td>...</td>\n",
       "      <td>...</td>\n",
       "      <td>...</td>\n",
       "      <td>...</td>\n",
       "      <td>...</td>\n",
       "      <td>...</td>\n",
       "      <td>...</td>\n",
       "      <td>...</td>\n",
       "      <td>...</td>\n",
       "      <td>...</td>\n",
       "      <td>...</td>\n",
       "      <td>...</td>\n",
       "    </tr>\n",
       "    <tr>\n",
       "      <th>5024</th>\n",
       "      <td>2019.0</td>\n",
       "      <td>CJ Boone</td>\n",
       "      <td>WR</td>\n",
       "      <td>75.0</td>\n",
       "      <td>170.0</td>\n",
       "      <td>Missouri</td>\n",
       "      <td>USA</td>\n",
       "      <td>MO</td>\n",
       "      <td>0.0</td>\n",
       "      <td>NaN</td>\n",
       "      <td>...</td>\n",
       "      <td>3.0</td>\n",
       "      <td>5.7</td>\n",
       "      <td>NaN</td>\n",
       "      <td>NaN</td>\n",
       "      <td>NaN</td>\n",
       "      <td>NaN</td>\n",
       "      <td>NaN</td>\n",
       "      <td>NaN</td>\n",
       "      <td>NaN</td>\n",
       "      <td>NaN</td>\n",
       "    </tr>\n",
       "    <tr>\n",
       "      <th>5025</th>\n",
       "      <td>2019.0</td>\n",
       "      <td>Tamauzia Brown</td>\n",
       "      <td>WR</td>\n",
       "      <td>73.0</td>\n",
       "      <td>175.0</td>\n",
       "      <td>NaN</td>\n",
       "      <td>USA</td>\n",
       "      <td>TX</td>\n",
       "      <td>0.0</td>\n",
       "      <td>NaN</td>\n",
       "      <td>...</td>\n",
       "      <td>4.0</td>\n",
       "      <td>5.8</td>\n",
       "      <td>NaN</td>\n",
       "      <td>NaN</td>\n",
       "      <td>NaN</td>\n",
       "      <td>NaN</td>\n",
       "      <td>NaN</td>\n",
       "      <td>NaN</td>\n",
       "      <td>NaN</td>\n",
       "      <td>NaN</td>\n",
       "    </tr>\n",
       "    <tr>\n",
       "      <th>5026</th>\n",
       "      <td>2019.0</td>\n",
       "      <td>Brieon Fuller</td>\n",
       "      <td>WR</td>\n",
       "      <td>72.0</td>\n",
       "      <td>180.0</td>\n",
       "      <td>NaN</td>\n",
       "      <td>USA</td>\n",
       "      <td>FL</td>\n",
       "      <td>0.0</td>\n",
       "      <td>NaN</td>\n",
       "      <td>...</td>\n",
       "      <td>3.0</td>\n",
       "      <td>5.7</td>\n",
       "      <td>NaN</td>\n",
       "      <td>NaN</td>\n",
       "      <td>NaN</td>\n",
       "      <td>NaN</td>\n",
       "      <td>NaN</td>\n",
       "      <td>NaN</td>\n",
       "      <td>NaN</td>\n",
       "      <td>NaN</td>\n",
       "    </tr>\n",
       "    <tr>\n",
       "      <th>5027</th>\n",
       "      <td>2019.0</td>\n",
       "      <td>Genson Hooper-Price</td>\n",
       "      <td>WR</td>\n",
       "      <td>77.0</td>\n",
       "      <td>206.0</td>\n",
       "      <td>Northwestern</td>\n",
       "      <td>USA</td>\n",
       "      <td>TX</td>\n",
       "      <td>0.0</td>\n",
       "      <td>NaN</td>\n",
       "      <td>...</td>\n",
       "      <td>3.0</td>\n",
       "      <td>5.6</td>\n",
       "      <td>NaN</td>\n",
       "      <td>NaN</td>\n",
       "      <td>NaN</td>\n",
       "      <td>NaN</td>\n",
       "      <td>NaN</td>\n",
       "      <td>NaN</td>\n",
       "      <td>NaN</td>\n",
       "      <td>NaN</td>\n",
       "    </tr>\n",
       "    <tr>\n",
       "      <th>5028</th>\n",
       "      <td>2019.0</td>\n",
       "      <td>Maurice Goolsby</td>\n",
       "      <td>WR</td>\n",
       "      <td>77.0</td>\n",
       "      <td>196.0</td>\n",
       "      <td>Florida State</td>\n",
       "      <td>USA</td>\n",
       "      <td>FL</td>\n",
       "      <td>0.0</td>\n",
       "      <td>NaN</td>\n",
       "      <td>...</td>\n",
       "      <td>4.0</td>\n",
       "      <td>5.8</td>\n",
       "      <td>NaN</td>\n",
       "      <td>NaN</td>\n",
       "      <td>NaN</td>\n",
       "      <td>NaN</td>\n",
       "      <td>NaN</td>\n",
       "      <td>NaN</td>\n",
       "      <td>NaN</td>\n",
       "      <td>NaN</td>\n",
       "    </tr>\n",
       "  </tbody>\n",
       "</table>\n",
       "<p>5029 rows × 24 columns</p>\n",
       "</div>"
      ],
      "text/plain": [
       "        Year               Player Position  Height  Weight   committed_to  \\\n",
       "0     2010.0        Ronald Powell       LB    76.0   245.0        Florida   \n",
       "1     2010.0     Dominique Easley       DL    74.0   290.0        Florida   \n",
       "2     2010.0         Robert Woods       WR    72.0   190.0            USC   \n",
       "3     2010.0     Jackson Jeffcoat     EDGE    75.0   253.0          Texas   \n",
       "4     2010.0   Seantrel Henderson       OT    79.0   331.0          Miami   \n",
       "...      ...                  ...      ...     ...     ...            ...   \n",
       "5024  2019.0             CJ Boone       WR    75.0   170.0       Missouri   \n",
       "5025  2019.0       Tamauzia Brown       WR    73.0   175.0            NaN   \n",
       "5026  2019.0        Brieon Fuller       WR    72.0   180.0            NaN   \n",
       "5027  2019.0  Genson Hooper-Price       WR    77.0   206.0   Northwestern   \n",
       "5028  2019.0      Maurice Goolsby       WR    77.0   196.0  Florida State   \n",
       "\n",
       "     country state_province  on3_Star  on3_Rating  ...  Rivals_Star  \\\n",
       "0        USA             CA       0.0         NaN  ...          5.0   \n",
       "1        USA             NY       0.0         NaN  ...          5.0   \n",
       "2        USA             CA       0.0         NaN  ...          5.0   \n",
       "3        USA             TX       0.0         NaN  ...          5.0   \n",
       "4        USA             MN       0.0         NaN  ...          5.0   \n",
       "...      ...            ...       ...         ...  ...          ...   \n",
       "5024     USA             MO       0.0         NaN  ...          3.0   \n",
       "5025     USA             TX       0.0         NaN  ...          4.0   \n",
       "5026     USA             FL       0.0         NaN  ...          3.0   \n",
       "5027     USA             TX       0.0         NaN  ...          3.0   \n",
       "5028     USA             FL       0.0         NaN  ...          4.0   \n",
       "\n",
       "      Rivals_Rating  draft_year  drafted_from  cfb_player_id  \\\n",
       "0               6.1      2014.0       Florida       501558.0   \n",
       "1               6.1      2014.0       Florida       503961.0   \n",
       "2               6.1      2013.0           USC       500234.0   \n",
       "3               6.1         NaN           NaN            NaN   \n",
       "4               6.1      2014.0         Miami     -1019775.0   \n",
       "...             ...         ...           ...            ...   \n",
       "5024            5.7         NaN           NaN            NaN   \n",
       "5025            5.8         NaN           NaN            NaN   \n",
       "5026            5.7         NaN           NaN            NaN   \n",
       "5027            5.6         NaN           NaN            NaN   \n",
       "5028            5.8         NaN           NaN            NaN   \n",
       "\n",
       "          draft_position  draft_grade draft_round  pick overall  \n",
       "0     Outside Linebacker         48.0         5.0  29.0   169.0  \n",
       "1       Defensive Tackle         77.0         1.0  29.0    29.0  \n",
       "2          Wide Receiver         88.0         2.0   9.0    41.0  \n",
       "3                    NaN          NaN         NaN   NaN     NaN  \n",
       "4       Offensive Tackle         53.0         7.0  22.0   237.0  \n",
       "...                  ...          ...         ...   ...     ...  \n",
       "5024                 NaN          NaN         NaN   NaN     NaN  \n",
       "5025                 NaN          NaN         NaN   NaN     NaN  \n",
       "5026                 NaN          NaN         NaN   NaN     NaN  \n",
       "5027                 NaN          NaN         NaN   NaN     NaN  \n",
       "5028                 NaN          NaN         NaN   NaN     NaN  \n",
       "\n",
       "[5029 rows x 24 columns]"
      ]
     },
     "execution_count": 55,
     "metadata": {},
     "output_type": "execute_result"
    }
   ],
   "source": [
    "final_data # preview data loaded in"
   ]
  },
  {
   "cell_type": "code",
   "execution_count": 127,
   "id": "d6b20473",
   "metadata": {},
   "outputs": [],
   "source": [
    "# define lists for loop below\n",
    "services = ['247_Star', 'ESPN_Star', 'Rivals_Star']\n",
    "stars = [3,4,5]"
   ]
  },
  {
   "cell_type": "code",
   "execution_count": 128,
   "id": "6eb603d0",
   "metadata": {
    "scrolled": false
   },
   "outputs": [
    {
     "name": "stdout",
     "output_type": "stream",
     "text": [
      "DRAFT RATES FROM HS CLASS 2010-2017\n",
      "Figure 1\n",
      "\n",
      "247_Star 3 * Draft Rate:\t 0.113 N:  1270 \t Max:  0.32\n",
      "ESPN_Star 3 * Draft Rate:\t 0.153 N:  1394 \t Max:  0.32\n",
      "Rivals_Star 3 * Draft Rate:\t 0.128 N:  1340 \t Max:  0.32\n",
      "\n",
      "\n",
      "247_Star 4 * Draft Rate:\t 0.233 N:  2214 \t Max:  0.708\n",
      "ESPN_Star 4 * Draft Rate:\t 0.232 N:  2438 \t Max:  0.643\n",
      "Rivals_Star 4 * Draft Rate:\t 0.22 N:  2352 \t Max:  0.667\n",
      "\n",
      "\n",
      "247_Star 5 * Draft Rate:\t 0.631 N:  225 \t Max:  1\n",
      "ESPN_Star 5 * Draft Rate:\t 0.69 N:  71 \t Max:  1\n",
      "Rivals_Star 5 * Draft Rate:\t 0.578 N:  244 \t Max:  1\n",
      "\n",
      "\n"
     ]
    }
   ],
   "source": [
    "# draft rate table data, later pulled into an excel file to make figure 1\n",
    "print(\"DRAFT RATES FROM HS CLASS 2010-2017\")\n",
    "print('Figure 1\\n')\n",
    "total = len(range(2010,2017))*7*32 # total number of draft positions available for 7 years\n",
    "for i in stars:\n",
    "    for s in services:\n",
    "        # dropping all kids 2018+ bc they could still be in school\n",
    "        sum_5star = len(final_data[(final_data[s]==i) & (final_data['Year']<2018)])\n",
    "        draft_5star = len(final_data[(final_data[s]==i) & \n",
    "                                         (final_data['Year']<2018) & (np.isnan(final_data['draft_year'])==False)])\n",
    "        if i==3:\n",
    "            tmax = total/(700*7) # only about 700-800 3stars for each year (obviously can't capture all these)\n",
    "        elif total/sum_5star>1:\n",
    "            tmax = 1\n",
    "        else:\n",
    "            tmax=np.round(total/sum_5star, 3)\n",
    "        print(s, i,\"* Draft Rate:\\t\", np.round(draft_5star/sum_5star, 3),'N: ', sum_5star, '\\t Max: ',tmax)\n",
    "    print('\\n')"
   ]
  },
  {
   "cell_type": "markdown",
   "id": "d24054b7",
   "metadata": {},
   "source": [
    "## PREDICTIVE MODELING"
   ]
  },
  {
   "cell_type": "code",
   "execution_count": 53,
   "id": "0531107f",
   "metadata": {},
   "outputs": [],
   "source": [
    "from sklearn.model_selection import train_test_split\n",
    "from sklearn.linear_model import *\n",
    "from sklearn.tree import *\n",
    "from sklearn import metrics\n",
    "from sklearn.model_selection import *\n",
    "from sklearn import svm\n",
    "from sklearn import ensemble\n",
    "from sklearn.preprocessing import *\n",
    "from sklearn.neural_network import *\n",
    "from scipy import stats\n",
    "\n",
    "from sklearn.decomposition import PCA"
   ]
  },
  {
   "cell_type": "code",
   "execution_count": 56,
   "id": "4b9c7ca4",
   "metadata": {},
   "outputs": [],
   "source": [
    "# drop rows where ESPN 247 or rivals rating is NA\n",
    "drop_row = final_data[(np.isnan(final_data['ESPN_Rating'])==True)|(np.isnan(final_data['Rivals_Rating'])==True)|(np.isnan(final_data['247_Rating'])==True)]"
   ]
  },
  {
   "cell_type": "code",
   "execution_count": 57,
   "id": "02c23011",
   "metadata": {},
   "outputs": [],
   "source": [
    "no_NAs = final_data.drop(drop_row.index) # dataframe with only players who had ratings from 247, ESPN, Rivals\n",
    "# no_NAs.to_csv('no_NA_final_data.csv')"
   ]
  },
  {
   "cell_type": "code",
   "execution_count": 58,
   "id": "ced759df",
   "metadata": {},
   "outputs": [],
   "source": [
    "tmp = no_NAs[no_NAs['Year']<2018] # drop players younger than me as they still could be in college with covid year"
   ]
  },
  {
   "cell_type": "code",
   "execution_count": 126,
   "id": "5ceb4962",
   "metadata": {},
   "outputs": [
    {
     "data": {
      "text/html": [
       "<div>\n",
       "<style scoped>\n",
       "    .dataframe tbody tr th:only-of-type {\n",
       "        vertical-align: middle;\n",
       "    }\n",
       "\n",
       "    .dataframe tbody tr th {\n",
       "        vertical-align: top;\n",
       "    }\n",
       "\n",
       "    .dataframe thead th {\n",
       "        text-align: right;\n",
       "    }\n",
       "</style>\n",
       "<table border=\"1\" class=\"dataframe\">\n",
       "  <thead>\n",
       "    <tr style=\"text-align: right;\">\n",
       "      <th></th>\n",
       "      <th>Year</th>\n",
       "      <th>Player</th>\n",
       "      <th>Position</th>\n",
       "      <th>Height</th>\n",
       "      <th>Weight</th>\n",
       "      <th>committed_to</th>\n",
       "      <th>country</th>\n",
       "      <th>state_province</th>\n",
       "      <th>on3_Star</th>\n",
       "      <th>on3_Rating</th>\n",
       "      <th>...</th>\n",
       "      <th>Rivals_Star</th>\n",
       "      <th>Rivals_Rating</th>\n",
       "      <th>draft_year</th>\n",
       "      <th>drafted_from</th>\n",
       "      <th>cfb_player_id</th>\n",
       "      <th>draft_position</th>\n",
       "      <th>draft_grade</th>\n",
       "      <th>draft_round</th>\n",
       "      <th>pick</th>\n",
       "      <th>overall</th>\n",
       "    </tr>\n",
       "  </thead>\n",
       "  <tbody>\n",
       "    <tr>\n",
       "      <th>0</th>\n",
       "      <td>2010.0</td>\n",
       "      <td>Ronald Powell</td>\n",
       "      <td>LB</td>\n",
       "      <td>76.0</td>\n",
       "      <td>245.0</td>\n",
       "      <td>Florida</td>\n",
       "      <td>USA</td>\n",
       "      <td>CA</td>\n",
       "      <td>0.0</td>\n",
       "      <td>NaN</td>\n",
       "      <td>...</td>\n",
       "      <td>5.0</td>\n",
       "      <td>6.1</td>\n",
       "      <td>2014.0</td>\n",
       "      <td>Florida</td>\n",
       "      <td>501558.0</td>\n",
       "      <td>Outside Linebacker</td>\n",
       "      <td>48.0</td>\n",
       "      <td>5.0</td>\n",
       "      <td>29.0</td>\n",
       "      <td>169.0</td>\n",
       "    </tr>\n",
       "    <tr>\n",
       "      <th>1</th>\n",
       "      <td>2010.0</td>\n",
       "      <td>Dominique Easley</td>\n",
       "      <td>DL</td>\n",
       "      <td>74.0</td>\n",
       "      <td>290.0</td>\n",
       "      <td>Florida</td>\n",
       "      <td>USA</td>\n",
       "      <td>NY</td>\n",
       "      <td>0.0</td>\n",
       "      <td>NaN</td>\n",
       "      <td>...</td>\n",
       "      <td>5.0</td>\n",
       "      <td>6.1</td>\n",
       "      <td>2014.0</td>\n",
       "      <td>Florida</td>\n",
       "      <td>503961.0</td>\n",
       "      <td>Defensive Tackle</td>\n",
       "      <td>77.0</td>\n",
       "      <td>1.0</td>\n",
       "      <td>29.0</td>\n",
       "      <td>29.0</td>\n",
       "    </tr>\n",
       "    <tr>\n",
       "      <th>2</th>\n",
       "      <td>2010.0</td>\n",
       "      <td>Robert Woods</td>\n",
       "      <td>WR</td>\n",
       "      <td>72.0</td>\n",
       "      <td>190.0</td>\n",
       "      <td>USC</td>\n",
       "      <td>USA</td>\n",
       "      <td>CA</td>\n",
       "      <td>0.0</td>\n",
       "      <td>NaN</td>\n",
       "      <td>...</td>\n",
       "      <td>5.0</td>\n",
       "      <td>6.1</td>\n",
       "      <td>2013.0</td>\n",
       "      <td>USC</td>\n",
       "      <td>500234.0</td>\n",
       "      <td>Wide Receiver</td>\n",
       "      <td>88.0</td>\n",
       "      <td>2.0</td>\n",
       "      <td>9.0</td>\n",
       "      <td>41.0</td>\n",
       "    </tr>\n",
       "    <tr>\n",
       "      <th>3</th>\n",
       "      <td>2010.0</td>\n",
       "      <td>Jackson Jeffcoat</td>\n",
       "      <td>EDGE</td>\n",
       "      <td>75.0</td>\n",
       "      <td>253.0</td>\n",
       "      <td>Texas</td>\n",
       "      <td>USA</td>\n",
       "      <td>TX</td>\n",
       "      <td>0.0</td>\n",
       "      <td>NaN</td>\n",
       "      <td>...</td>\n",
       "      <td>5.0</td>\n",
       "      <td>6.1</td>\n",
       "      <td>NaN</td>\n",
       "      <td>NaN</td>\n",
       "      <td>NaN</td>\n",
       "      <td>NaN</td>\n",
       "      <td>NaN</td>\n",
       "      <td>NaN</td>\n",
       "      <td>NaN</td>\n",
       "      <td>NaN</td>\n",
       "    </tr>\n",
       "    <tr>\n",
       "      <th>4</th>\n",
       "      <td>2010.0</td>\n",
       "      <td>Seantrel Henderson</td>\n",
       "      <td>OT</td>\n",
       "      <td>79.0</td>\n",
       "      <td>331.0</td>\n",
       "      <td>Miami</td>\n",
       "      <td>USA</td>\n",
       "      <td>MN</td>\n",
       "      <td>0.0</td>\n",
       "      <td>NaN</td>\n",
       "      <td>...</td>\n",
       "      <td>5.0</td>\n",
       "      <td>6.1</td>\n",
       "      <td>2014.0</td>\n",
       "      <td>Miami</td>\n",
       "      <td>-1019775.0</td>\n",
       "      <td>Offensive Tackle</td>\n",
       "      <td>53.0</td>\n",
       "      <td>7.0</td>\n",
       "      <td>22.0</td>\n",
       "      <td>237.0</td>\n",
       "    </tr>\n",
       "    <tr>\n",
       "      <th>...</th>\n",
       "      <td>...</td>\n",
       "      <td>...</td>\n",
       "      <td>...</td>\n",
       "      <td>...</td>\n",
       "      <td>...</td>\n",
       "      <td>...</td>\n",
       "      <td>...</td>\n",
       "      <td>...</td>\n",
       "      <td>...</td>\n",
       "      <td>...</td>\n",
       "      <td>...</td>\n",
       "      <td>...</td>\n",
       "      <td>...</td>\n",
       "      <td>...</td>\n",
       "      <td>...</td>\n",
       "      <td>...</td>\n",
       "      <td>...</td>\n",
       "      <td>...</td>\n",
       "      <td>...</td>\n",
       "      <td>...</td>\n",
       "      <td>...</td>\n",
       "    </tr>\n",
       "    <tr>\n",
       "      <th>4934</th>\n",
       "      <td>2017.0</td>\n",
       "      <td>DeMarco Artis</td>\n",
       "      <td>LB</td>\n",
       "      <td>75.0</td>\n",
       "      <td>220.0</td>\n",
       "      <td>Baylor</td>\n",
       "      <td>USA</td>\n",
       "      <td>FL</td>\n",
       "      <td>0.0</td>\n",
       "      <td>NaN</td>\n",
       "      <td>...</td>\n",
       "      <td>3.0</td>\n",
       "      <td>5.7</td>\n",
       "      <td>NaN</td>\n",
       "      <td>NaN</td>\n",
       "      <td>NaN</td>\n",
       "      <td>NaN</td>\n",
       "      <td>NaN</td>\n",
       "      <td>NaN</td>\n",
       "      <td>NaN</td>\n",
       "      <td>NaN</td>\n",
       "    </tr>\n",
       "    <tr>\n",
       "      <th>4935</th>\n",
       "      <td>2017.0</td>\n",
       "      <td>Kendric Haynes</td>\n",
       "      <td>LB</td>\n",
       "      <td>73.0</td>\n",
       "      <td>224.0</td>\n",
       "      <td>South Alabama</td>\n",
       "      <td>USA</td>\n",
       "      <td>AL</td>\n",
       "      <td>0.0</td>\n",
       "      <td>NaN</td>\n",
       "      <td>...</td>\n",
       "      <td>3.0</td>\n",
       "      <td>5.7</td>\n",
       "      <td>NaN</td>\n",
       "      <td>NaN</td>\n",
       "      <td>NaN</td>\n",
       "      <td>NaN</td>\n",
       "      <td>NaN</td>\n",
       "      <td>NaN</td>\n",
       "      <td>NaN</td>\n",
       "      <td>NaN</td>\n",
       "    </tr>\n",
       "    <tr>\n",
       "      <th>4936</th>\n",
       "      <td>2017.0</td>\n",
       "      <td>Alexander Marshall</td>\n",
       "      <td>TE</td>\n",
       "      <td>79.0</td>\n",
       "      <td>240.0</td>\n",
       "      <td>Florida State</td>\n",
       "      <td>USA</td>\n",
       "      <td>ME</td>\n",
       "      <td>0.0</td>\n",
       "      <td>NaN</td>\n",
       "      <td>...</td>\n",
       "      <td>4.0</td>\n",
       "      <td>5.8</td>\n",
       "      <td>NaN</td>\n",
       "      <td>NaN</td>\n",
       "      <td>NaN</td>\n",
       "      <td>NaN</td>\n",
       "      <td>NaN</td>\n",
       "      <td>NaN</td>\n",
       "      <td>NaN</td>\n",
       "      <td>NaN</td>\n",
       "    </tr>\n",
       "    <tr>\n",
       "      <th>4937</th>\n",
       "      <td>2017.0</td>\n",
       "      <td>Daron Davis</td>\n",
       "      <td>ATH</td>\n",
       "      <td>74.0</td>\n",
       "      <td>190.0</td>\n",
       "      <td>Missouri</td>\n",
       "      <td>USA</td>\n",
       "      <td>MO</td>\n",
       "      <td>0.0</td>\n",
       "      <td>NaN</td>\n",
       "      <td>...</td>\n",
       "      <td>4.0</td>\n",
       "      <td>5.8</td>\n",
       "      <td>NaN</td>\n",
       "      <td>NaN</td>\n",
       "      <td>NaN</td>\n",
       "      <td>NaN</td>\n",
       "      <td>NaN</td>\n",
       "      <td>NaN</td>\n",
       "      <td>NaN</td>\n",
       "      <td>NaN</td>\n",
       "    </tr>\n",
       "    <tr>\n",
       "      <th>4938</th>\n",
       "      <td>2017.0</td>\n",
       "      <td>Cam Sullivan-Brown</td>\n",
       "      <td>WR</td>\n",
       "      <td>73.0</td>\n",
       "      <td>180.0</td>\n",
       "      <td>Penn State</td>\n",
       "      <td>USA</td>\n",
       "      <td>MD</td>\n",
       "      <td>0.0</td>\n",
       "      <td>NaN</td>\n",
       "      <td>...</td>\n",
       "      <td>3.0</td>\n",
       "      <td>5.7</td>\n",
       "      <td>NaN</td>\n",
       "      <td>NaN</td>\n",
       "      <td>NaN</td>\n",
       "      <td>NaN</td>\n",
       "      <td>NaN</td>\n",
       "      <td>NaN</td>\n",
       "      <td>NaN</td>\n",
       "      <td>NaN</td>\n",
       "    </tr>\n",
       "  </tbody>\n",
       "</table>\n",
       "<p>3601 rows × 24 columns</p>\n",
       "</div>"
      ],
      "text/plain": [
       "        Year              Player Position  Height  Weight   committed_to  \\\n",
       "0     2010.0       Ronald Powell       LB    76.0   245.0        Florida   \n",
       "1     2010.0    Dominique Easley       DL    74.0   290.0        Florida   \n",
       "2     2010.0        Robert Woods       WR    72.0   190.0            USC   \n",
       "3     2010.0    Jackson Jeffcoat     EDGE    75.0   253.0          Texas   \n",
       "4     2010.0  Seantrel Henderson       OT    79.0   331.0          Miami   \n",
       "...      ...                 ...      ...     ...     ...            ...   \n",
       "4934  2017.0       DeMarco Artis       LB    75.0   220.0         Baylor   \n",
       "4935  2017.0      Kendric Haynes       LB    73.0   224.0  South Alabama   \n",
       "4936  2017.0  Alexander Marshall       TE    79.0   240.0  Florida State   \n",
       "4937  2017.0         Daron Davis      ATH    74.0   190.0       Missouri   \n",
       "4938  2017.0  Cam Sullivan-Brown       WR    73.0   180.0     Penn State   \n",
       "\n",
       "     country state_province  on3_Star  on3_Rating  ...  Rivals_Star  \\\n",
       "0        USA             CA       0.0         NaN  ...          5.0   \n",
       "1        USA             NY       0.0         NaN  ...          5.0   \n",
       "2        USA             CA       0.0         NaN  ...          5.0   \n",
       "3        USA             TX       0.0         NaN  ...          5.0   \n",
       "4        USA             MN       0.0         NaN  ...          5.0   \n",
       "...      ...            ...       ...         ...  ...          ...   \n",
       "4934     USA             FL       0.0         NaN  ...          3.0   \n",
       "4935     USA             AL       0.0         NaN  ...          3.0   \n",
       "4936     USA             ME       0.0         NaN  ...          4.0   \n",
       "4937     USA             MO       0.0         NaN  ...          4.0   \n",
       "4938     USA             MD       0.0         NaN  ...          3.0   \n",
       "\n",
       "      Rivals_Rating  draft_year  drafted_from  cfb_player_id  \\\n",
       "0               6.1      2014.0       Florida       501558.0   \n",
       "1               6.1      2014.0       Florida       503961.0   \n",
       "2               6.1      2013.0           USC       500234.0   \n",
       "3               6.1         NaN           NaN            NaN   \n",
       "4               6.1      2014.0         Miami     -1019775.0   \n",
       "...             ...         ...           ...            ...   \n",
       "4934            5.7         NaN           NaN            NaN   \n",
       "4935            5.7         NaN           NaN            NaN   \n",
       "4936            5.8         NaN           NaN            NaN   \n",
       "4937            5.8         NaN           NaN            NaN   \n",
       "4938            5.7         NaN           NaN            NaN   \n",
       "\n",
       "          draft_position  draft_grade draft_round  pick overall  \n",
       "0     Outside Linebacker         48.0         5.0  29.0   169.0  \n",
       "1       Defensive Tackle         77.0         1.0  29.0    29.0  \n",
       "2          Wide Receiver         88.0         2.0   9.0    41.0  \n",
       "3                    NaN          NaN         NaN   NaN     NaN  \n",
       "4       Offensive Tackle         53.0         7.0  22.0   237.0  \n",
       "...                  ...          ...         ...   ...     ...  \n",
       "4934                 NaN          NaN         NaN   NaN     NaN  \n",
       "4935                 NaN          NaN         NaN   NaN     NaN  \n",
       "4936                 NaN          NaN         NaN   NaN     NaN  \n",
       "4937                 NaN          NaN         NaN   NaN     NaN  \n",
       "4938                 NaN          NaN         NaN   NaN     NaN  \n",
       "\n",
       "[3601 rows x 24 columns]"
      ]
     },
     "execution_count": 126,
     "metadata": {},
     "output_type": "execute_result"
    }
   ],
   "source": [
    "tmp # preview to show changes so far, only players from 2010-2017"
   ]
  },
  {
   "cell_type": "code",
   "execution_count": 59,
   "id": "9549cebc",
   "metadata": {
    "scrolled": true
   },
   "outputs": [
    {
     "data": {
      "text/plain": [
       "Index(['Year', 'Player', 'Position', 'Height', 'Weight', 'committed_to',\n",
       "       'country', 'state_province', 'on3_Star', 'on3_Rating', 'draft_year',\n",
       "       'drafted_from', 'cfb_player_id', 'draft_position', 'draft_grade',\n",
       "       'pick', 'overall'],\n",
       "      dtype='object')"
      ]
     },
     "execution_count": 59,
     "metadata": {},
     "output_type": "execute_result"
    }
   ],
   "source": [
    "drops = tmp.columns[[('247' not in c)&('ESPN' not in c)&('Rivals' not in c)&('round' not in c) for c in tmp.columns]]\n",
    "drops # columns not needed for ML models, get dropped"
   ]
  },
  {
   "cell_type": "code",
   "execution_count": 60,
   "id": "2ef4da77",
   "metadata": {},
   "outputs": [
    {
     "data": {
      "text/html": [
       "<div>\n",
       "<style scoped>\n",
       "    .dataframe tbody tr th:only-of-type {\n",
       "        vertical-align: middle;\n",
       "    }\n",
       "\n",
       "    .dataframe tbody tr th {\n",
       "        vertical-align: top;\n",
       "    }\n",
       "\n",
       "    .dataframe thead th {\n",
       "        text-align: right;\n",
       "    }\n",
       "</style>\n",
       "<table border=\"1\" class=\"dataframe\">\n",
       "  <thead>\n",
       "    <tr style=\"text-align: right;\">\n",
       "      <th></th>\n",
       "      <th>247_Star</th>\n",
       "      <th>247_Rating</th>\n",
       "      <th>ESPN_Star</th>\n",
       "      <th>ESPN_Rating</th>\n",
       "      <th>Rivals_Star</th>\n",
       "      <th>Rivals_Rating</th>\n",
       "      <th>draft_round</th>\n",
       "    </tr>\n",
       "  </thead>\n",
       "  <tbody>\n",
       "    <tr>\n",
       "      <th>0</th>\n",
       "      <td>5.0</td>\n",
       "      <td>100.0</td>\n",
       "      <td>4.0</td>\n",
       "      <td>89.0</td>\n",
       "      <td>5.0</td>\n",
       "      <td>6.1</td>\n",
       "      <td>5.0</td>\n",
       "    </tr>\n",
       "    <tr>\n",
       "      <th>1</th>\n",
       "      <td>5.0</td>\n",
       "      <td>100.0</td>\n",
       "      <td>4.0</td>\n",
       "      <td>88.0</td>\n",
       "      <td>5.0</td>\n",
       "      <td>6.1</td>\n",
       "      <td>1.0</td>\n",
       "    </tr>\n",
       "    <tr>\n",
       "      <th>2</th>\n",
       "      <td>5.0</td>\n",
       "      <td>100.0</td>\n",
       "      <td>4.0</td>\n",
       "      <td>87.0</td>\n",
       "      <td>5.0</td>\n",
       "      <td>6.1</td>\n",
       "      <td>2.0</td>\n",
       "    </tr>\n",
       "    <tr>\n",
       "      <th>3</th>\n",
       "      <td>5.0</td>\n",
       "      <td>99.0</td>\n",
       "      <td>4.0</td>\n",
       "      <td>88.0</td>\n",
       "      <td>5.0</td>\n",
       "      <td>6.1</td>\n",
       "      <td>NaN</td>\n",
       "    </tr>\n",
       "    <tr>\n",
       "      <th>4</th>\n",
       "      <td>5.0</td>\n",
       "      <td>99.0</td>\n",
       "      <td>4.0</td>\n",
       "      <td>86.0</td>\n",
       "      <td>5.0</td>\n",
       "      <td>6.1</td>\n",
       "      <td>7.0</td>\n",
       "    </tr>\n",
       "    <tr>\n",
       "      <th>...</th>\n",
       "      <td>...</td>\n",
       "      <td>...</td>\n",
       "      <td>...</td>\n",
       "      <td>...</td>\n",
       "      <td>...</td>\n",
       "      <td>...</td>\n",
       "      <td>...</td>\n",
       "    </tr>\n",
       "    <tr>\n",
       "      <th>4934</th>\n",
       "      <td>3.0</td>\n",
       "      <td>87.0</td>\n",
       "      <td>3.0</td>\n",
       "      <td>79.0</td>\n",
       "      <td>3.0</td>\n",
       "      <td>5.7</td>\n",
       "      <td>NaN</td>\n",
       "    </tr>\n",
       "    <tr>\n",
       "      <th>4935</th>\n",
       "      <td>3.0</td>\n",
       "      <td>87.0</td>\n",
       "      <td>3.0</td>\n",
       "      <td>79.0</td>\n",
       "      <td>3.0</td>\n",
       "      <td>5.7</td>\n",
       "      <td>NaN</td>\n",
       "    </tr>\n",
       "    <tr>\n",
       "      <th>4936</th>\n",
       "      <td>3.0</td>\n",
       "      <td>86.0</td>\n",
       "      <td>3.0</td>\n",
       "      <td>79.0</td>\n",
       "      <td>4.0</td>\n",
       "      <td>5.8</td>\n",
       "      <td>NaN</td>\n",
       "    </tr>\n",
       "    <tr>\n",
       "      <th>4937</th>\n",
       "      <td>3.0</td>\n",
       "      <td>88.0</td>\n",
       "      <td>3.0</td>\n",
       "      <td>76.0</td>\n",
       "      <td>4.0</td>\n",
       "      <td>5.8</td>\n",
       "      <td>NaN</td>\n",
       "    </tr>\n",
       "    <tr>\n",
       "      <th>4938</th>\n",
       "      <td>3.0</td>\n",
       "      <td>87.0</td>\n",
       "      <td>3.0</td>\n",
       "      <td>78.0</td>\n",
       "      <td>3.0</td>\n",
       "      <td>5.7</td>\n",
       "      <td>NaN</td>\n",
       "    </tr>\n",
       "  </tbody>\n",
       "</table>\n",
       "<p>3601 rows × 7 columns</p>\n",
       "</div>"
      ],
      "text/plain": [
       "      247_Star  247_Rating  ESPN_Star  ESPN_Rating  Rivals_Star  \\\n",
       "0          5.0       100.0        4.0         89.0          5.0   \n",
       "1          5.0       100.0        4.0         88.0          5.0   \n",
       "2          5.0       100.0        4.0         87.0          5.0   \n",
       "3          5.0        99.0        4.0         88.0          5.0   \n",
       "4          5.0        99.0        4.0         86.0          5.0   \n",
       "...        ...         ...        ...          ...          ...   \n",
       "4934       3.0        87.0        3.0         79.0          3.0   \n",
       "4935       3.0        87.0        3.0         79.0          3.0   \n",
       "4936       3.0        86.0        3.0         79.0          4.0   \n",
       "4937       3.0        88.0        3.0         76.0          4.0   \n",
       "4938       3.0        87.0        3.0         78.0          3.0   \n",
       "\n",
       "      Rivals_Rating  draft_round  \n",
       "0               6.1          5.0  \n",
       "1               6.1          1.0  \n",
       "2               6.1          2.0  \n",
       "3               6.1          NaN  \n",
       "4               6.1          7.0  \n",
       "...             ...          ...  \n",
       "4934            5.7          NaN  \n",
       "4935            5.7          NaN  \n",
       "4936            5.8          NaN  \n",
       "4937            5.8          NaN  \n",
       "4938            5.7          NaN  \n",
       "\n",
       "[3601 rows x 7 columns]"
      ]
     },
     "execution_count": 60,
     "metadata": {},
     "output_type": "execute_result"
    }
   ],
   "source": [
    "mod_df = tmp.drop(columns=drops)\n",
    "mod_df # show data frame after dropping unnecessary x-vars"
   ]
  },
  {
   "cell_type": "code",
   "execution_count": 61,
   "id": "e949a686",
   "metadata": {},
   "outputs": [],
   "source": [
    "# create drafted binary col\n",
    "mod_df['drafted'] = np.where(np.isnan(mod_df['draft_round']), 0, 1)\n",
    "\n",
    "# drop draft round (we are predicting binary draft/undrafted\n",
    "mod_df.drop(columns=['draft_round'], inplace=True)"
   ]
  },
  {
   "cell_type": "code",
   "execution_count": 62,
   "id": "13110657",
   "metadata": {},
   "outputs": [
    {
     "data": {
      "text/html": [
       "<div>\n",
       "<style scoped>\n",
       "    .dataframe tbody tr th:only-of-type {\n",
       "        vertical-align: middle;\n",
       "    }\n",
       "\n",
       "    .dataframe tbody tr th {\n",
       "        vertical-align: top;\n",
       "    }\n",
       "\n",
       "    .dataframe thead th {\n",
       "        text-align: right;\n",
       "    }\n",
       "</style>\n",
       "<table border=\"1\" class=\"dataframe\">\n",
       "  <thead>\n",
       "    <tr style=\"text-align: right;\">\n",
       "      <th></th>\n",
       "      <th>247_Star</th>\n",
       "      <th>247_Rating</th>\n",
       "      <th>ESPN_Star</th>\n",
       "      <th>ESPN_Rating</th>\n",
       "      <th>Rivals_Star</th>\n",
       "      <th>Rivals_Rating</th>\n",
       "      <th>drafted</th>\n",
       "    </tr>\n",
       "  </thead>\n",
       "  <tbody>\n",
       "    <tr>\n",
       "      <th>0</th>\n",
       "      <td>5.0</td>\n",
       "      <td>100.0</td>\n",
       "      <td>4.0</td>\n",
       "      <td>89.0</td>\n",
       "      <td>5.0</td>\n",
       "      <td>6.1</td>\n",
       "      <td>1</td>\n",
       "    </tr>\n",
       "    <tr>\n",
       "      <th>1</th>\n",
       "      <td>5.0</td>\n",
       "      <td>100.0</td>\n",
       "      <td>4.0</td>\n",
       "      <td>88.0</td>\n",
       "      <td>5.0</td>\n",
       "      <td>6.1</td>\n",
       "      <td>1</td>\n",
       "    </tr>\n",
       "    <tr>\n",
       "      <th>2</th>\n",
       "      <td>5.0</td>\n",
       "      <td>100.0</td>\n",
       "      <td>4.0</td>\n",
       "      <td>87.0</td>\n",
       "      <td>5.0</td>\n",
       "      <td>6.1</td>\n",
       "      <td>1</td>\n",
       "    </tr>\n",
       "    <tr>\n",
       "      <th>3</th>\n",
       "      <td>5.0</td>\n",
       "      <td>99.0</td>\n",
       "      <td>4.0</td>\n",
       "      <td>88.0</td>\n",
       "      <td>5.0</td>\n",
       "      <td>6.1</td>\n",
       "      <td>0</td>\n",
       "    </tr>\n",
       "    <tr>\n",
       "      <th>4</th>\n",
       "      <td>5.0</td>\n",
       "      <td>99.0</td>\n",
       "      <td>4.0</td>\n",
       "      <td>86.0</td>\n",
       "      <td>5.0</td>\n",
       "      <td>6.1</td>\n",
       "      <td>1</td>\n",
       "    </tr>\n",
       "  </tbody>\n",
       "</table>\n",
       "</div>"
      ],
      "text/plain": [
       "   247_Star  247_Rating  ESPN_Star  ESPN_Rating  Rivals_Star  Rivals_Rating  \\\n",
       "0       5.0       100.0        4.0         89.0          5.0            6.1   \n",
       "1       5.0       100.0        4.0         88.0          5.0            6.1   \n",
       "2       5.0       100.0        4.0         87.0          5.0            6.1   \n",
       "3       5.0        99.0        4.0         88.0          5.0            6.1   \n",
       "4       5.0        99.0        4.0         86.0          5.0            6.1   \n",
       "\n",
       "   drafted  \n",
       "0        1  \n",
       "1        1  \n",
       "2        1  \n",
       "3        0  \n",
       "4        1  "
      ]
     },
     "execution_count": 62,
     "metadata": {},
     "output_type": "execute_result"
    }
   ],
   "source": [
    "mod_df.head() # players with no NAs missing from 2017 and prior"
   ]
  },
  {
   "cell_type": "code",
   "execution_count": 63,
   "id": "9b0830d7",
   "metadata": {},
   "outputs": [],
   "source": [
    "mod_df.to_csv('ML_dataframe.csv', index=False) # save dataframe used for ML models"
   ]
  },
  {
   "cell_type": "code",
   "execution_count": 64,
   "id": "18760b05",
   "metadata": {
    "scrolled": false
   },
   "outputs": [
    {
     "data": {
      "image/png": "[encoded data removed]",
      "text/plain": [
       "<Figure size 1152x432 with 3 Axes>"
      ]
     },
     "metadata": {
      "needs_background": "light"
     },
     "output_type": "display_data"
    }
   ],
   "source": [
    "# HISTOGRAM FOR CONTINUOUS PREDICTORS\n",
    "figure, ax = plt.subplots(1,3, figsize=(16,6))\n",
    "sns.histplot(mod_df['ESPN_Rating'], ax=ax[1])\n",
    "sns.histplot(mod_df['Rivals_Rating'], ax=ax[2])\n",
    "sns.histplot(mod_df['247_Rating'], ax=ax[0])\n",
    "figure.suptitle('Continuous Predictors (NAs removed)\\n(Figure 21)', fontsize=16)\n",
    "plt.savefig(\"Images/modeling/Continuous_Predictors.png\", facecolor='white', edgecolor='white')\n",
    "plt.show()"
   ]
  },
  {
   "cell_type": "code",
   "execution_count": 65,
   "id": "4d0ef568",
   "metadata": {
    "scrolled": true
   },
   "outputs": [
    {
     "data": {
      "image/png": "[encoded data removed]",
      "text/plain": [
       "<Figure size 1008x288 with 3 Axes>"
      ]
     },
     "metadata": {
      "needs_background": "light"
     },
     "output_type": "display_data"
    }
   ],
   "source": [
    "# SCATTERS FOR CONTINUOUS PREDICTORS\n",
    "figure, ax = plt.subplots(1,3, figsize=(14,4))\n",
    "p1 = sns.scatterplot(x=mod_df['ESPN_Rating'], y=mod_df['247_Rating'], ax=ax[0])\n",
    "p1.annotate('Correlation: \\n'+str(np.round(np.corrcoef(mod_df['ESPN_Rating'], mod_df['247_Rating'])[0][1],3)), \n",
    "           xy=(90, 70))\n",
    "p2 = sns.scatterplot(x=mod_df['ESPN_Rating'], y=mod_df['Rivals_Rating'], ax=ax[1])\n",
    "p2.annotate('Correlation: \\n'+str(np.round(np.corrcoef(mod_df['ESPN_Rating'], mod_df['Rivals_Rating'])[0][1],3)), \n",
    "           xy=(90, 5.2))\n",
    "p3 = sns.scatterplot(x=mod_df['247_Rating'], y=mod_df['Rivals_Rating'], ax=ax[2])\n",
    "p3.annotate('Correlation: \\n'+str(np.round(np.corrcoef(mod_df['247_Rating'], mod_df['Rivals_Rating'])[0][1],3)), \n",
    "           xy=(97, 5.2))\n",
    "plt.annotate('(Figures 15-17)', xy=(.07, .92), xycoords='figure fraction')\n",
    "plt.savefig('Images/modeling/correlated_Xs.png', facecolor='white')\n",
    "plt.show()"
   ]
  },
  {
   "cell_type": "code",
   "execution_count": 66,
   "id": "d5e00722",
   "metadata": {
    "scrolled": true
   },
   "outputs": [
    {
     "data": {
      "image/png": "[encoded data removed]",
      "text/plain": [
       "<Figure size 1008x288 with 3 Axes>"
      ]
     },
     "metadata": {
      "needs_background": "light"
     },
     "output_type": "display_data"
    }
   ],
   "source": [
    "# NORMAL PROB PLOTS FOR CONTINUOUS PREDICTORS\n",
    "figure, ax = plt.subplots(1,3, figsize=(14,4))\n",
    "ax = 131\n",
    "for i,v in enumerate(mod_df.columns[['Rating' in c for c in mod_df.columns]]):\n",
    "    x = 'ax'+str(i)\n",
    "    exec(f'{x} = plt.subplot(ax)')\n",
    "    cht = stats.probplot(mod_df[v].dropna(), dist='norm', plot=plt)\n",
    "    plt.title(v+'\\nNormal Probability Plot')\n",
    "    ax=ax+1\n",
    "plt.annotate('(Figures (22-24)', xy=(.05,.95), xycoords='figure fraction')\n",
    "plt.savefig('Images/modeling/Normal_ProbPlots.png', facecolor='white', edgecolor='white')\n",
    "plt.show()"
   ]
  },
  {
   "cell_type": "markdown",
   "id": "e9203ff2",
   "metadata": {},
   "source": [
    "### Building models"
   ]
  },
  {
   "cell_type": "code",
   "execution_count": 68,
   "id": "db82fc15",
   "metadata": {},
   "outputs": [],
   "source": [
    "# split data into drafted and undrafted subsets\n",
    "drft = mod_df[mod_df['drafted']==1]\n",
    "non_drft = mod_df[mod_df['drafted']==0]"
   ]
  },
  {
   "cell_type": "code",
   "execution_count": 69,
   "id": "f946bf16",
   "metadata": {},
   "outputs": [
    {
     "data": {
      "text/plain": [
       "0.779783393501805"
      ]
     },
     "execution_count": 69,
     "metadata": {},
     "output_type": "execute_result"
    }
   ],
   "source": [
    "# establish naive accuracy and class imbalance\n",
    "naive_acc = len(non_drft)/len(mod_df) #imbalance %\n",
    "naive_acc"
   ]
  },
  {
   "cell_type": "code",
   "execution_count": 70,
   "id": "e7b3d248",
   "metadata": {
    "scrolled": true
   },
   "outputs": [],
   "source": [
    "# establish initial x & y for use in any unbalanced classifiers on all data\n",
    "y = mod_df['drafted']\n",
    "x = mod_df[mod_df.columns[[('Rating' in c)|('Star' in c) for c in mod_df.columns]]]\n",
    "\n",
    "# scale the x values so larger magnitude ratings are not favored\n",
    "x_scaled = pd.DataFrame(StandardScaler().fit_transform(x), columns=x.columns)\n",
    "\n",
    "# train test split the data\n",
    "x_train, x_test, y_train, y_test = train_test_split(x_scaled,y, test_size=.2, random_state=0, stratify=mod_df['drafted'])"
   ]
  },
  {
   "cell_type": "markdown",
   "id": "347e5409",
   "metadata": {},
   "source": [
    "#### visualization model ####\n",
    "commented code below used for visual only (figures 26-28)\n",
    "\n",
    "i changed values by hand here, so running commented code would only show 1 of the 3 charts"
   ]
  },
  {
   "cell_type": "code",
   "execution_count": 1946,
   "id": "b5c21ba3",
   "metadata": {
    "scrolled": false
   },
   "outputs": [],
   "source": [
    "# y = mod_df['drafted']\n",
    "# x = pd.DataFrame(mod_df['Rivals_Rating'])\n",
    "\n",
    "# x_train, x_test, y_train, y_test = train_test_split(x,y, test_size=.2, random_state=0, stratify=mod_df['drafted'])\n",
    "\n",
    "# LR = LogisticRegressionCV(cv=3).fit(x_train, y_train)\n",
    "\n",
    "# rang = [i/10 for i in range(int(x.min().values[0]*10), 62, 1)]\n",
    "# probs = [LR.predict_proba([[i]])[0][1] for i in rang]\n",
    "# acc = str(np.round(metrics.accuracy_score(y_test, LR.predict(x_test)), 3))\n",
    "# auc = str(np.round(metrics.roc_auc_score(y_test, LR.predict(x_test)), 3))\n",
    "# plt.plot(rang, probs, label='Logistic Regression \\n Accuracy='+acc+' auc='+auc)\n",
    "# plt.title('Predicted probability to be drafted')\n",
    "\n",
    "# plt.axvline(x=6.1, ymin=0, ymax=.94, color='red')\n",
    "# pr_5 = str(np.round(LR.predict_proba([[6.1]])[0][1]*100, 2))\n",
    "# plt.annotate(\"5star cut-off\\n\"+pr_5+\"%\", xy=(5.9,.47))\n",
    "# plt.axvline(x=5.8, ymin=0, ymax=.38, color='red')\n",
    "# pr_4 = str(np.round(LR.predict_proba([[5.8]])[0][1]*100, 2))\n",
    "# plt.annotate(\"4star cut-off\\n\"+pr_4+\"%\", xy=(5.63,.19))\n",
    "# plt.axvline(x=5.5, ymin=0, ymax=.12, color='red')\n",
    "# pr_3 = str(np.round(LR.predict_proba([[5.5]])[0][1]*100, 2))\n",
    "# plt.annotate(\"3star cut-off\\n\"+pr_3+\"%\", xy=(5.4,.06))\n",
    "# plt.legend(loc=0)\n",
    "# plt.xlabel('Rivals_Rating')\n",
    "# plt.ylabel('Probability')\n",
    "# plt.annotate('(Figure 28)', xy=(.1,.91), xycoords='figure fraction')\n",
    "# plt.savefig('Images/modeling/Rivals_rating_predict.png', facecolor='white')"
   ]
  },
  {
   "cell_type": "markdown",
   "id": "16104afe",
   "metadata": {},
   "source": [
    "### INITIAL MODEL classification on ALL data"
   ]
  },
  {
   "cell_type": "code",
   "execution_count": 2120,
   "id": "fce9fe14",
   "metadata": {},
   "outputs": [],
   "source": [
    "LR = LogisticRegressionCV(cv=3).fit(x_train, y_train) # initial logistic regression model"
   ]
  },
  {
   "cell_type": "code",
   "execution_count": 2051,
   "id": "4595c814",
   "metadata": {},
   "outputs": [],
   "source": [
    "RF = ensemble.RandomForestClassifier(max_depth=5).fit(x_train, y_train) # initial random forest"
   ]
  },
  {
   "cell_type": "code",
   "execution_count": 2052,
   "id": "4cf18ff9",
   "metadata": {},
   "outputs": [],
   "source": [
    "tr = DecisionTreeClassifier(max_depth=2).fit(x_train, y_train) # initial tree model"
   ]
  },
  {
   "cell_type": "code",
   "execution_count": 1945,
   "id": "2b110c64",
   "metadata": {
    "scrolled": true
   },
   "outputs": [
    {
     "data": {
      "image/png": "[encoded data removed]",
      "text/plain": [
       "<Figure size 1728x1728 with 1 Axes>"
      ]
     },
     "metadata": {
      "needs_background": "light"
     },
     "output_type": "display_data"
    }
   ],
   "source": [
    "# PLOT INITIAL TREE ON ALL DATA\n",
    "plt.figure(figsize=(24,24))\n",
    "plot_tree(tr, feature_names=tr.feature_names_in_)\n",
    "plt.annotate('Drafted?', xy=(.44,.94), fontsize=34)\n",
    "plt.annotate('\\nclassification tree on entire unbalanced data (scaled predictors)', xy=(.27,.91), fontsize=24)\n",
    "plt.annotate('(Figure 25)', xy=(.08,.92), fontsize=24)\n",
    "plt.annotate('Accuracy: '+str(np.round(metrics.accuracy_score(y_test, tr.predict(x_test)),3)), \n",
    "             xy=(.42, .7), fontsize=24)\n",
    "plt.savefig('Images/modeling/classification_tree_alldata.png', facecolor='white')\n",
    "plt.show()"
   ]
  },
  {
   "cell_type": "markdown",
   "id": "1c7b760c",
   "metadata": {},
   "source": [
    "**Use PCA to visualize dependent variable space then color with drafted class**\n",
    "    \n",
    "    - and plot with just 2 continuous x-vars"
   ]
  },
  {
   "cell_type": "code",
   "execution_count": 72,
   "id": "2abccd39",
   "metadata": {
    "scrolled": true
   },
   "outputs": [
    {
     "data": {
      "image/png": "[encoded data removed]",
      "text/plain": [
       "<Figure size 432x288 with 1 Axes>"
      ]
     },
     "metadata": {
      "needs_background": "light"
     },
     "output_type": "display_data"
    }
   ],
   "source": [
    "# compress all dependent variables into 2D for plot\n",
    "mod = PCA(n_components=2)\n",
    "pca = mod.fit_transform(mod_df[mod_df.columns[:-1]]) \n",
    "expl = str(np.round(mod.explained_variance_ratio_.sum(),3))\n",
    "silh = np.round(metrics.silhouette_score(mod_df[mod_df.columns[:-1]], mod_df['drafted']), 3)\n",
    "scat = plt.scatter(pca[:, 0], pca[:, 1], c=mod_df['drafted'].values)\n",
    "plt.legend(handles=scat.legend_elements()[0], labels=['Undrafted', 'Drafted'])\n",
    "plt.xlabel('Component 1')\n",
    "plt.ylabel('Component 2')\n",
    "plt.annotate('Silhouette:\\n'+str(silh), xy=(14,-8))\n",
    "plt.annotate('(Figure 2)', xy=(.1,.91), xycoords='figure fraction')\n",
    "plt.annotate('Explained Variance: '+expl, xy=(.5,.81), xycoords='figure fraction')\n",
    "plt.title('Principal Component Analysis')\n",
    "plt.savefig('Images/PCA_scatter.png', facecolor='white')\n",
    "plt.show()"
   ]
  },
  {
   "cell_type": "code",
   "execution_count": 2661,
   "id": "f89e8a0d",
   "metadata": {},
   "outputs": [],
   "source": [
    "from sklearn.datasets import make_blobs"
   ]
  },
  {
   "cell_type": "code",
   "execution_count": 2744,
   "id": "dde163e9",
   "metadata": {},
   "outputs": [],
   "source": [
    "dat = make_blobs(n_samples=2000, centers=2, cluster_std=.8, random_state=3) # generate fake cluster data"
   ]
  },
  {
   "cell_type": "code",
   "execution_count": 2746,
   "id": "4b721e23",
   "metadata": {},
   "outputs": [
    {
     "data": {
      "image/png": "[encoded data removed]",
      "text/plain": [
       "<Figure size 432x288 with 1 Axes>"
      ]
     },
     "metadata": {
      "needs_background": "light"
     },
     "output_type": "display_data"
    }
   ],
   "source": [
    "# PERFECT WORLD PCA PLOT\n",
    "points = dat[0]\n",
    "# plot blob cluster data (fake data)\n",
    "plt.scatter(points[:,0], points[:,1], c=dat[1])\n",
    "silh = np.round(metrics.silhouette_score(points, dat[1]), 3)\n",
    "plt.legend(handles=scat.legend_elements()[0], labels=['Undrafted', 'Drafted'], loc=3)\n",
    "plt.xlabel('Component 1')\n",
    "plt.ylabel('Component 2')\n",
    "plt.annotate('Silhouette:\\n'+str(silh), xy=(.73,.18), xycoords='figure fraction')\n",
    "plt.annotate('(Figure 3)', xy=(.1,.91), xycoords='figure fraction')\n",
    "plt.title('Perfect World')\n",
    "plt.savefig('Images/IDEAL_scatter.png', facecolor='white')\n",
    "plt.show()"
   ]
  },
  {
   "cell_type": "markdown",
   "id": "71bae6bd",
   "metadata": {},
   "source": [
    "**Plot ROC curves for initial models on all data**"
   ]
  },
  {
   "cell_type": "code",
   "execution_count": 2053,
   "id": "9078dff2",
   "metadata": {
    "scrolled": true
   },
   "outputs": [
    {
     "data": {
      "image/png": "[encoded data removed]",
      "text/plain": [
       "<Figure size 432x288 with 1 Axes>"
      ]
     },
     "metadata": {
      "needs_background": "light"
     },
     "output_type": "display_data"
    }
   ],
   "source": [
    "# PLOT ROC CURVES FOR ALL INITIAL MODELS ON UNBALANCED DATA\n",
    "probs = LR.predict_proba(x_test)[:,1]\n",
    "fpr, tpr, _ = metrics.roc_curve(y_test, probs)\n",
    "auc = np.round(metrics.roc_auc_score(y_test, probs),3)\n",
    "acc = np.round(metrics.accuracy_score(y_test, LR.predict(x_test)), 3)\n",
    "nacc = np.round(naive_acc, 3)\n",
    "nauc = np.round(metrics.roc_auc_score(y_test, np.repeat(0, len(y_test))), 3)\n",
    "\n",
    "probs1 = RF.predict_proba(x_test)[:,1]\n",
    "fpr1, tpr1, _ = metrics.roc_curve(y_test, probs1)\n",
    "auc1 = np.round(metrics.roc_auc_score(y_test, probs1),3)\n",
    "acc1 = np.round(metrics.accuracy_score(y_test, RF.predict(x_test)), 3)\n",
    "\n",
    "# PLOT ROC LINES\n",
    "plt.plot(fpr,tpr,label=\"Logistic: accuracy=\"+ str(acc) +\" | auc=\"+str(auc))\n",
    "plt.annotate(text=\"(Figure 18)\", xy=(.05, .9), xycoords='figure fraction')\n",
    "plt.suptitle('Drafted?', fontsize=16)\n",
    "plt.title('(including surgeries)', fontsize=10)\n",
    "plt.plot(fpr1, tpr1, label='Forest: accuracy='+str(acc1)+\" | auc=\"+str(auc1))\n",
    "plt.plot([0, 1], [0, 1],'r--', label=\"NAIVE: accuracy=\"+str(nacc)+\" | auc=\"+str(nauc))\n",
    "plt.legend(loc=0)\n",
    "# plt.savefig('Images/modeling/Classif_onAll+surg.png', facecolor='white', edgecolor='white')\n",
    "plt.show()"
   ]
  },
  {
   "cell_type": "code",
   "execution_count": 2121,
   "id": "e6dd68b4",
   "metadata": {},
   "outputs": [
    {
     "data": {
      "image/png": "[encoded data removed]",
      "text/plain": [
       "<Figure size 1440x576 with 4 Axes>"
      ]
     },
     "metadata": {
      "needs_background": "light"
     },
     "output_type": "display_data"
    }
   ],
   "source": [
    "# CONFUSION MATRIX FOR INITIAL LOGISTIC REG ON ALL DATA\n",
    "size = 16\n",
    "figure, ax = plt.subplots(1,2, figsize=(20,8))\n",
    "heat = sns.heatmap(metrics.confusion_matrix(y_test, np.repeat(0, len(y_test))), fmt='g', annot=True, cmap='Blues', \n",
    "                   ax=ax[0], annot_kws={\"size\": 18})\n",
    "heat.set_title(\"NAIVE MODEL\", fontsize=size)\n",
    "heat.set_xlabel(\"Predicted Values\", fontsize=size)\n",
    "heat.set_ylabel(\"Actual Value\", fontsize=size)\n",
    "heat.xaxis.set_ticklabels(['Undrafted', 'Drafted'], fontsize=size)\n",
    "heat.yaxis.set_ticklabels(['Undrafted', 'Drafted'], fontsize=size)\n",
    "heat.annotate('Accuracy: '+str(np.round(naive_acc,3)), xy=(1.4,0), fontsize=12)\n",
    "heat.annotate('auc: 0.5', xy=(1.9,0), fontsize=12)\n",
    "heat.annotate('(Figure 29)', xy=(0,0), fontsize=size)\n",
    "\n",
    "# logistic reg on all unbalanced data conf matrix\n",
    "probs = LR.predict_proba(x_test)[:,1]\n",
    "ht = sns.heatmap(metrics.confusion_matrix(y_test, LR.predict(x_test)), fmt='g', annot=True, cmap='Blues', ax=ax[1], \n",
    "                annot_kws={\"size\": 18})\n",
    "ht.set_title(\"LOGISTIC REG\", fontsize=size)\n",
    "ht.set_xlabel(\"Predicted Values\", fontsize=size)\n",
    "ht.set_ylabel(\"Actual Value\", fontsize=size)\n",
    "ht.xaxis.set_ticklabels(['Undrafted', 'Drafted'], fontsize=size)\n",
    "ht.yaxis.set_ticklabels(['Undrafted', 'Drafted'], fontsize=size)\n",
    "ht.annotate('Accuracy: '+str(np.round(metrics.accuracy_score(y_test, LR.predict(x_test)),3)), xy=(1.4,0), fontsize=12)\n",
    "ht.annotate('auc: '+str(np.round(metrics.roc_auc_score(y_test, probs),3)), xy=(1.9,0), fontsize=12)\n",
    "plt.savefig('Images/modeling/confusion_matrices.png', facecolor='white')\n",
    "plt.show()\n"
   ]
  },
  {
   "cell_type": "markdown",
   "id": "66c1eeb9",
   "metadata": {},
   "source": [
    "### MODEL PART 2: model on BALANCED subsets"
   ]
  },
  {
   "cell_type": "code",
   "execution_count": 106,
   "id": "5c7d2b4a",
   "metadata": {},
   "outputs": [],
   "source": [
    "# randomly sample undrafted subset\n",
    "mod_subs = pd.concat([drft, non_drft.sample(n=len(drft))])\n",
    "y = mod_subs['drafted']\n",
    "x = mod_subs[mod_subs.columns[[('Rating' in c)|('Star' in c) for c in mod_subs.columns]]]\n",
    "\n",
    "# scale the x values so larger magnitude ratings are not favored\n",
    "x_scaled = pd.DataFrame(StandardScaler().fit_transform(x), columns=x.columns)\n",
    "\n",
    "# train test split\n",
    "x_train, x_test, y_train, y_test = train_test_split(x_scaled,y, test_size=.2, random_state=0, stratify=mod_subs['drafted'])"
   ]
  },
  {
   "cell_type": "code",
   "execution_count": 107,
   "id": "527cbe69",
   "metadata": {},
   "outputs": [],
   "source": [
    "# LOGISTIC REG ON BALANCED SUB\n",
    "LR = LogisticRegressionCV(cv=3, fit_intercept=False, scoring='roc_auc').fit(x_train, y_train)"
   ]
  },
  {
   "cell_type": "code",
   "execution_count": 108,
   "id": "f7bf49c6",
   "metadata": {},
   "outputs": [
    {
     "data": {
      "image/png": "[encoded data removed]",
      "text/plain": [
       "<Figure size 1440x576 with 4 Axes>"
      ]
     },
     "metadata": {
      "needs_background": "light"
     },
     "output_type": "display_data"
    }
   ],
   "source": [
    "# CONFUSION MATRIX NAIVE VS LOGISTIC REG ON BALANCED SUB\n",
    "size = 16\n",
    "figure, ax = plt.subplots(1,2, figsize=(20,8))\n",
    "heat = sns.heatmap(metrics.confusion_matrix(y_test, np.repeat(0, len(y_test))), fmt='g', annot=True, cmap='Blues', \n",
    "                   ax=ax[0], annot_kws={\"size\": 18})\n",
    "heat.set_title(\"NAIVE MODEL\", fontsize=size)\n",
    "heat.set_xlabel(\"Predicted Values\", fontsize=size)\n",
    "heat.set_ylabel(\"Actual Value\", fontsize=size)\n",
    "heat.xaxis.set_ticklabels(['Undrafted', 'Drafted'], fontsize=size)\n",
    "heat.yaxis.set_ticklabels(['Undrafted', 'Drafted'], fontsize=size)\n",
    "heat.annotate('Accuracy: '+str(0.5), xy=(1.4,0), fontsize=12)\n",
    "heat.annotate('auc: 0.5', xy=(1.9,0), fontsize=12)\n",
    "heat.annotate('(Figure 30)', xy=(0,0), fontsize=size)\n",
    "\n",
    "# logistic reg on balanced subset conf matrix\n",
    "probs = LR.predict_proba(x_test)[:,1]\n",
    "ht = sns.heatmap(metrics.confusion_matrix(y_test, LR.predict(x_test)), fmt='g', annot=True, cmap='Blues', ax=ax[1], \n",
    "                annot_kws={\"size\": 18})\n",
    "ht.set_title(\"LOGISTIC REG\", fontsize=size)\n",
    "ht.set_xlabel(\"Predicted Values\", fontsize=size)\n",
    "ht.set_ylabel(\"Actual Value\", fontsize=size)\n",
    "ht.xaxis.set_ticklabels(['Undrafted', 'Drafted'], fontsize=size)\n",
    "ht.yaxis.set_ticklabels(['Undrafted', 'Drafted'], fontsize=size)\n",
    "ht.annotate('Accuracy: '+str(np.round(metrics.accuracy_score(y_test, LR.predict(x_test)),3)), xy=(1.4,0), fontsize=12)\n",
    "ht.annotate('auc: '+str(np.round(metrics.roc_auc_score(y_test, probs),3)), xy=(1.9,0), fontsize=12)\n",
    "plt.savefig('Images/modeling/confusion_matrices_subset.png', facecolor='white')\n",
    "plt.show()\n"
   ]
  },
  {
   "cell_type": "code",
   "execution_count": 109,
   "id": "a9691d9a",
   "metadata": {},
   "outputs": [],
   "source": [
    "# Balanced logistic reg model predicted probabilites, fpr,tpr, etc for ROC chart later\n",
    "probsLR = LR.predict_proba(x_test)[:,1]\n",
    "fprLR, tprLR, _ = metrics.roc_curve(y_test, probsLR)\n",
    "aucLR = np.round(metrics.roc_auc_score(y_test, probsLR),3)\n",
    "accLR = np.round(metrics.accuracy_score(y_test, LR.predict(x_test)), 3)\n",
    "nacc_sub = np.round(np.sum(y_test==0)/len(y_test), 3) # naive accuracy\n",
    "nauc_sub = np.round(metrics.roc_auc_score(y_test, np.repeat(0, len(y_test))), 3)"
   ]
  },
  {
   "cell_type": "code",
   "execution_count": 110,
   "id": "222d4582",
   "metadata": {},
   "outputs": [],
   "source": [
    "# randomly sample undrafted subset\n",
    "mod_subs = pd.concat([drft, non_drft.sample(n=len(drft))])\n",
    "y = mod_subs['drafted']\n",
    "x = mod_subs[mod_subs.columns[[('Rating' in c)|('Star' in c) for c in mod_subs.columns]]]\n",
    "\n",
    "# scale the x values so larger magnitude ratings are not favored\n",
    "x_scaled = pd.DataFrame(StandardScaler().fit_transform(x), columns=x.columns)\n",
    "\n",
    "# train test split\n",
    "x_train, x_test, y_train, y_test = train_test_split(x_scaled,y, test_size=.2, random_state=0, stratify=mod_subs['drafted'])"
   ]
  },
  {
   "cell_type": "code",
   "execution_count": 111,
   "id": "498228ab",
   "metadata": {
    "scrolled": true
   },
   "outputs": [],
   "source": [
    "# TREE MODEL ON RANDOM BALANCED SUBSET\n",
    "trees = ensemble.RandomForestClassifier(max_depth=5, n_estimators=250).fit(x_train, y_train)"
   ]
  },
  {
   "cell_type": "code",
   "execution_count": 112,
   "id": "c2a79706",
   "metadata": {},
   "outputs": [],
   "source": [
    "# Balanced tree model predicted probabilites, fpr,tpr, etc for ROC chart later\n",
    "probsTR = trees.predict_proba(x_test)[:,1]\n",
    "fprTR, tprTR, _ = metrics.roc_curve(y_test, probsTR)\n",
    "aucTR = np.round(metrics.roc_auc_score(y_test, probsTR),3)\n",
    "accTR = np.round(metrics.accuracy_score(y_test, trees.predict(x_test)), 3)"
   ]
  },
  {
   "cell_type": "code",
   "execution_count": 113,
   "id": "da4d64ab",
   "metadata": {},
   "outputs": [],
   "source": [
    "# randomly sample undrafted subset\n",
    "mod_subs = pd.concat([drft, non_drft.sample(n=len(drft))])\n",
    "y = mod_subs['drafted']\n",
    "x = mod_subs[mod_subs.columns[[('Rating' in c)|('Star' in c) for c in mod_subs.columns]]]\n",
    "\n",
    "# scale the x values so larger magnitude ratings are not favored\n",
    "x_scaled = pd.DataFrame(StandardScaler().fit_transform(x), columns=x.columns)\n",
    "\n",
    "# train test split\n",
    "x_train, x_test, y_train, y_test = train_test_split(x_scaled,y, test_size=.2, random_state=0, stratify=mod_subs['drafted'])"
   ]
  },
  {
   "cell_type": "code",
   "execution_count": 114,
   "id": "1daecb38",
   "metadata": {},
   "outputs": [],
   "source": [
    "# SUPPORT VECTOR MACHINE ON BALANCED SUBSET\n",
    "modsvm = svm.SVC(kernel='rbf', probability=True).fit(x_train, y_train)"
   ]
  },
  {
   "cell_type": "code",
   "execution_count": 115,
   "id": "7ac579ab",
   "metadata": {},
   "outputs": [],
   "source": [
    "# Balanced SVM model predicted probabilites, fpr,tpr, etc for ROC chart later\n",
    "probsSVM = modsvm.predict_proba(x_test)[:,1]\n",
    "fprSVM, tprSVM, _ = metrics.roc_curve(y_test, probsSVM)\n",
    "aucSVM = np.round(metrics.roc_auc_score(y_test, probsSVM),3)\n",
    "accSVM = np.round(metrics.accuracy_score(y_test, modsvm.predict(x_test)), 3)"
   ]
  },
  {
   "cell_type": "code",
   "execution_count": 116,
   "id": "7b585934",
   "metadata": {},
   "outputs": [
    {
     "data": {
      "image/png": "[encoded data removed]",
      "text/plain": [
       "<Figure size 432x288 with 1 Axes>"
      ]
     },
     "metadata": {
      "needs_background": "light"
     },
     "output_type": "display_data"
    }
   ],
   "source": [
    "# PLOT ALL BALANCED SUBSET MODELS PERFORMANCES \n",
    "plt.plot(fprLR,tprLR,label=\"Logistic: accuracy=\"+ str(accLR) +\" | auc=\"+str(aucLR))\n",
    "plt.annotate(text=\"(Figure 19)\", xy=(.05, .9), xycoords='figure fraction')\n",
    "plt.suptitle('Drafted?', fontsize=16)\n",
    "plt.title('(balanced subset performances)', fontsize=10)\n",
    "plt.plot(fprSVM, tprSVM, label='SVM: accuracy='+str(accSVM)+\" | auc=\"+str(aucSVM))\n",
    "plt.plot(fprTR, tprTR, label='Forest: accuracy='+str(accTR)+\" | auc=\"+str(aucTR))\n",
    "plt.plot([0, 1], [0, 1],'r--', label=\"NAIVE: accuracy=\"+str(nacc_sub)+\" | auc=\"+str(nauc_sub))\n",
    "plt.legend(loc=0)\n",
    "plt.savefig('Images/modeling/Classif_onSubs.png', facecolor='white', edgecolor='white')\n",
    "plt.show()"
   ]
  },
  {
   "cell_type": "markdown",
   "id": "d8975fe2",
   "metadata": {},
   "source": [
    "**STACK them H***!!**\n",
    "    \n",
    "    - stack the balanced subset models into a meta learner"
   ]
  },
  {
   "cell_type": "code",
   "execution_count": 117,
   "id": "33ce26ca",
   "metadata": {},
   "outputs": [],
   "source": [
    "# META LEARNER WILL USE ALL DATA, NOT A BALANCED SUBSET, bc we want it to be realistic\n",
    "y = mod_df['drafted']\n",
    "x = mod_df[mod_df.columns[[('Rating' in c)|('Star' in c) for c in mod_df.columns]]]\n",
    "\n",
    "# scale the x values so larger magnitude ratings are not favored\n",
    "x_scaled = pd.DataFrame(StandardScaler().fit_transform(x), columns=x.columns)\n",
    "\n",
    "x_train, x_test, y_train, y_test = train_test_split(x_scaled,y, test_size=.2, random_state=0, stratify=mod_df['drafted'])\n",
    "\n",
    "# stack all trained models\n",
    "stak = ensemble.StackingClassifier(estimators=[('SVM', modsvm), ('LR', LR), ('tree', trees)],\n",
    "                          final_estimator=LogisticRegression()).fit(x_train, y_train)"
   ]
  },
  {
   "cell_type": "code",
   "execution_count": 118,
   "id": "bde0eea1",
   "metadata": {
    "scrolled": false
   },
   "outputs": [
    {
     "data": {
      "image/png": "[encoded data removed]",
      "text/plain": [
       "<Figure size 432x288 with 1 Axes>"
      ]
     },
     "metadata": {
      "needs_background": "light"
     },
     "output_type": "display_data"
    }
   ],
   "source": [
    "# ROC CURVE PLOT FOR STACKED META LEARNER\n",
    "probs = stak.predict_proba(x_test)[:,1]\n",
    "fpr, tpr, _ = metrics.roc_curve(y_test, probs)\n",
    "auc = np.round(metrics.roc_auc_score(y_test, probs),3)\n",
    "acc = np.round(metrics.accuracy_score(y_test, stak.predict(x_test)), 3)\n",
    "nacc = np.round(naive_acc, 3)\n",
    "nauc = np.round(metrics.roc_auc_score(y_test, np.repeat(0, len(y_test))), 3)\n",
    "\n",
    "# plt.figure(figsize=(8,8))\n",
    "plt.plot(fpr,tpr,label=\"FIT: accuracy=\"+ str(acc) +\" | auc=\"+str(auc))\n",
    "plt.annotate(text=\"(Figure 20)\", xy=(.05, .9), xycoords='figure fraction')\n",
    "plt.suptitle('Drafted?', fontsize=16)\n",
    "plt.title('(Stacked Classification Models)', fontsize=10)\n",
    "plt.plot([0, 1], [0, 1],'r--', label=\"NAIVE: accuracy=\"+str(nacc)+\" | auc=\"+str(nauc))\n",
    "plt.legend(loc=4)\n",
    "plt.savefig('Images/modeling/Stacked_Classification_ROC.png', facecolor='white', edgecolor='white')\n",
    "plt.show()\n"
   ]
  },
  {
   "cell_type": "markdown",
   "id": "03205fc1",
   "metadata": {},
   "source": [
    "**Probability that model is only as accurate/auc as naive given cross val scores**"
   ]
  },
  {
   "cell_type": "code",
   "execution_count": 119,
   "id": "4c7c6169",
   "metadata": {},
   "outputs": [],
   "source": [
    "# AUC scores from 15 rounds of cross validation\n",
    "# aucs = cross_val_score(stak, x_train, y_train, scoring='roc_auc', cv=15)"
   ]
  },
  {
   "cell_type": "code",
   "execution_count": 120,
   "id": "697fe1df",
   "metadata": {},
   "outputs": [],
   "source": [
    "# accuracy scores from 15 rounds of cross validation\n",
    "accs = cross_val_score(stak, x_train, y_train, scoring='accuracy', cv=15)"
   ]
  },
  {
   "cell_type": "code",
   "execution_count": 125,
   "id": "77927b95",
   "metadata": {},
   "outputs": [
    {
     "name": "stdout",
     "output_type": "stream",
     "text": [
      "Probability the model is at best 5% more accurate than guessing:\n",
      " 99.73\n"
     ]
    }
   ],
   "source": [
    "print(\"Probability the model is at best 5% more accurate than guessing:\\n\", np.round(stats.norm.cdf(x=naive_acc+.05, loc=accs.mean(), scale=accs.std())*100, 2))"
   ]
  },
  {
   "cell_type": "code",
   "execution_count": 129,
   "id": "f6393c90",
   "metadata": {
    "scrolled": true
   },
   "outputs": [
    {
     "data": {
      "image/png": "[encoded data removed]",
      "text/plain": [
       "<Figure size 432x288 with 1 Axes>"
      ]
     },
     "metadata": {
      "needs_background": "light"
     },
     "output_type": "display_data"
    }
   ],
   "source": [
    "# ESTIMATED NORMAL DIST OF STACKED META LEARNER TRUE ACCURACY vs NAIVE ACCURACY\n",
    "rand_x = stats.norm.ppf(q=[i/10000 for i in range(1,10000, 1)], loc=accs.mean(), scale=accs.std())\n",
    "plt.plot(rand_x, stats.norm.pdf(x=rand_x, loc=accs.mean(), scale=accs.std()), color='blue')\n",
    "plt.axvline(x=naive_acc, ymin=0, ymax=.5, color='red')\n",
    "p_val = str(np.round(stats.norm.cdf(x=naive_acc, loc=accs.mean(), scale=accs.std())*100, 2))\n",
    "plt.annotate('Chance naive more\\naccurate: '+p_val+\"%\", xy=(.749, 14))\n",
    "plt.title('15-Rounds\\nCross validation distribution of model accuracy')\n",
    "plt.annotate('Stacked Meta Model', xy=(.815, 28), color='blue')\n",
    "plt.annotate('Mean: '+str(np.round(accs.mean(),3))+'\\nStd: '+str(np.round(accs.std(),3)), xy=(.815, 24.5), color='blue')\n",
    "plt.annotate('(Figure 31)', xy=(.04, .96), xycoords='figure fraction')\n",
    "plt.annotate('Naive\\nAccuracy:'+str(np.round(naive_acc,3)), xy=(.745, 26), color='red')\n",
    "plt.xlabel('Accuracy')\n",
    "plt.savefig('Images/modeling/staked_popdistribution.png', facecolor='white')\n",
    "plt.show()\n",
    "\n",
    "# theres a [left tail p-value] chance that our model is less accurate than the naive in reality"
   ]
  },
  {
   "cell_type": "code",
   "execution_count": null,
   "id": "a9b7775f",
   "metadata": {},
   "outputs": [],
   "source": []
  }
 ],
 "metadata": {
  "kernelspec": {
   "display_name": "Python 3 (ipykernel)",
   "language": "python",
   "name": "python3"
  },
  "language_info": {
   "codemirror_mode": {
    "name": "ipython",
    "version": 3
   },
   "file_extension": ".py",
   "mimetype": "text/x-python",
   "name": "python",
   "nbconvert_exporter": "python",
   "pygments_lexer": "ipython3",
   "version": "3.9.7"
  }
 },
 "nbformat": 4,
 "nbformat_minor": 5
}
